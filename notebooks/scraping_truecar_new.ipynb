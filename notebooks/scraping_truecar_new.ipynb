{
  "nbformat": 4,
  "nbformat_minor": 0,
  "metadata": {
    "colab": {
      "name": "scraping_truecar_new.ipynb",
      "provenance": [],
      "collapsed_sections": []
    },
    "kernelspec": {
      "name": "python3",
      "display_name": "Python 3"
    },
    "language_info": {
      "name": "python"
    }
  },
  "cells": [
    {
      "cell_type": "code",
      "execution_count": 1,
      "metadata": {
        "id": "rsuIXsJpyRbX",
        "colab": {
          "base_uri": "https://localhost:8080/"
        },
        "outputId": "3dce5ec7-2f36-4b8a-97c8-7f4cf36ad960"
      },
      "outputs": [
        {
          "output_type": "stream",
          "name": "stdout",
          "text": [
            "Collecting requests-cache\n",
            "  Downloading requests_cache-0.8.1-py3-none-any.whl (44 kB)\n",
            "\u001b[K     |████████████████████████████████| 44 kB 857 kB/s \n",
            "\u001b[?25hCollecting urllib3<2.0.0,>=1.25.5\n",
            "  Downloading urllib3-1.26.7-py2.py3-none-any.whl (138 kB)\n",
            "\u001b[K     |████████████████████████████████| 138 kB 9.9 MB/s \n",
            "\u001b[?25hRequirement already satisfied: requests<3.0,>=2.22 in /usr/local/lib/python3.7/dist-packages (from requests-cache) (2.23.0)\n",
            "Collecting url-normalize<2.0,>=1.4\n",
            "  Downloading url_normalize-1.4.3-py2.py3-none-any.whl (6.8 kB)\n",
            "Requirement already satisfied: attrs<22.0,>=21.2 in /usr/local/lib/python3.7/dist-packages (from requests-cache) (21.2.0)\n",
            "Collecting cattrs<2.0,>=1.8\n",
            "  Downloading cattrs-1.9.0-py3-none-any.whl (25 kB)\n",
            "Requirement already satisfied: appdirs<2.0.0,>=1.4.4 in /usr/local/lib/python3.7/dist-packages (from requests-cache) (1.4.4)\n",
            "Requirement already satisfied: typing_extensions in /usr/local/lib/python3.7/dist-packages (from cattrs<2.0,>=1.8->requests-cache) (3.10.0.2)\n",
            "Requirement already satisfied: certifi>=2017.4.17 in /usr/local/lib/python3.7/dist-packages (from requests<3.0,>=2.22->requests-cache) (2021.10.8)\n",
            "Requirement already satisfied: chardet<4,>=3.0.2 in /usr/local/lib/python3.7/dist-packages (from requests<3.0,>=2.22->requests-cache) (3.0.4)\n",
            "Requirement already satisfied: idna<3,>=2.5 in /usr/local/lib/python3.7/dist-packages (from requests<3.0,>=2.22->requests-cache) (2.10)\n",
            "Collecting urllib3<2.0.0,>=1.25.5\n",
            "  Downloading urllib3-1.25.11-py2.py3-none-any.whl (127 kB)\n",
            "\u001b[K     |████████████████████████████████| 127 kB 37.9 MB/s \n",
            "\u001b[?25hRequirement already satisfied: six in /usr/local/lib/python3.7/dist-packages (from url-normalize<2.0,>=1.4->requests-cache) (1.15.0)\n",
            "Installing collected packages: urllib3, url-normalize, cattrs, requests-cache\n",
            "  Attempting uninstall: urllib3\n",
            "    Found existing installation: urllib3 1.24.3\n",
            "    Uninstalling urllib3-1.24.3:\n",
            "      Successfully uninstalled urllib3-1.24.3\n",
            "\u001b[31mERROR: pip's dependency resolver does not currently take into account all the packages that are installed. This behaviour is the source of the following dependency conflicts.\n",
            "datascience 0.10.6 requires folium==0.2.1, but you have folium 0.8.3 which is incompatible.\u001b[0m\n",
            "Successfully installed cattrs-1.9.0 requests-cache-0.8.1 url-normalize-1.4.3 urllib3-1.25.11\n"
          ]
        }
      ],
      "source": [
        "!pip install requests-cache"
      ]
    },
    {
      "cell_type": "code",
      "source": [
        "import requests\n",
        "import numpy as np\n",
        "import pandas as pd\n",
        "import requests_cache\n",
        "import lxml.html as html_parser\n",
        "import re"
      ],
      "metadata": {
        "id": "IbKL6V0kyZiw"
      },
      "execution_count": 2,
      "outputs": []
    },
    {
      "cell_type": "code",
      "source": [
        "MAX_PAGE = 333"
      ],
      "metadata": {
        "id": "U8gpT--Yyej0"
      },
      "execution_count": 34,
      "outputs": []
    },
    {
      "cell_type": "code",
      "source": [
        "## Get all the urls for all the listed used vehicles on truecar.com\n",
        "def urls_scraping(base_url = 'https://www.truecar.com/new-cars-for-sale/listings/'):\n",
        "    urls = []\n",
        "    pages = []\n",
        "    for i in range(1, MAX_PAGE+1):\n",
        "        pages.append(base_url + '?page=' + str(i))\n",
        "    for page in pages:\n",
        "        try:\n",
        "            response = requests.get(page)\n",
        "            response.raise_for_status()\n",
        "        except:\n",
        "            break\n",
        "        root = html_parser.fromstring(response.content)\n",
        "        url = ['https://www.truecar.com' + link for link in root.xpath('//div[@data-test=\"newOptionVehicleCard\"]/a/@href')]\n",
        "        urls += url\n",
        "    \n",
        "    return urls"
      ],
      "metadata": {
        "id": "uQjG5bpfyhrF"
      },
      "execution_count": 35,
      "outputs": []
    },
    {
      "cell_type": "code",
      "source": [
        "def page_scraping(url):\n",
        "    try:\n",
        "        response = requests.get(url)\n",
        "        response.raise_for_status()\n",
        "    except:\n",
        "        return\n",
        "    root = html_parser.fromstring(response.content)\n",
        "    \n",
        "    # extract vehicle year, make and model information\n",
        "    year_make_model = root.xpath('//h1[contains(@class,\"heading-base\")]/div[@class=\"heading-2\"]/text()')[0].strip()\n",
        "    year = year_make_model.split()[0]\n",
        "    make_model = year_make_model.split()[1:]\n",
        "    make = make_model[0]\n",
        "\n",
        "    model = ''\n",
        "    i = 1\n",
        "\n",
        "    while i < len(make_model):\n",
        "      model += make_model[i] + ' '\n",
        "      i += 1\n",
        "    \n",
        "    model = model.strip()\n",
        "\n",
        "    sub_model = root.xpath('//h1[contains(@class,\"heading-base\")]/div[@class=\"heading-base\"]/text()')[0].strip()\n",
        "\n",
        "    # location = root.xpath('//div[@class=\"d-flex align-items-center padding-top-1\"]/p/text()')[0].strip()\n",
        "    # city = location.split(',')[0].strip()\n",
        "    # state = location.split(',')[1].strip()\n",
        "\n",
        "    price = root.xpath('//div[@data-test=\"vdpPreProspectPrice\"]/text()')[0].strip()\n",
        "\n",
        "    # style = root.xpath('//div[@data-qa=\"Heading\" and contains(., \"Style\")]/following-sibling::p/text()')[0].strip()\n",
        "    exterior_color = root.xpath('//div[@data-qa=\"Heading\" and contains(., \"Exterior Color\")]/following-sibling::p/text()')[0].strip()\n",
        "    # interior_color = root.xpath('//div[@data-qa=\"Heading\" and contains(., \"Interior Color\")]/following-sibling::p/text()')[0].strip()\n",
        "    engine = root.xpath('//div[@data-qa=\"Heading\" and contains(., \"Engine\")]/following-sibling::p/text()')[0].strip()\n",
        "    drive_type = root.xpath('//div[@data-qa=\"Heading\" and contains(., \"Drive Type\")]/following-sibling::p/text()')[0].strip()\n",
        "    fuel_type = root.xpath('//div[@data-qa=\"Heading\" and contains(., \"Fuel Type\")]/following-sibling::p/text()')[0].strip()\n",
        "    transmission = root.xpath('//div[@data-qa=\"Heading\" and contains(., \"Transmission\")]/following-sibling::p/text()')[0].strip()\n",
        "\n",
        "    \n",
        "    \n",
        "\n",
        "    return pd.Series({'year':year, 'make':make, 'model':model, 'sub_model':sub_model,\n",
        "                      'price':price, 'exterior_color':exterior_color,  \n",
        "                      'engine':engine, 'drive_type':drive_type, 'fuel_type':fuel_type,'transmission':transmission })"
      ],
      "metadata": {
        "id": "gkHkqFPYymkL"
      },
      "execution_count": 36,
      "outputs": []
    },
    {
      "cell_type": "code",
      "source": [
        "def scraping(urls):\n",
        "    scraping_data = [page_scraping(url) for url in urls]\n",
        "    return pd.concat(scraping_data, axis=1).T"
      ],
      "metadata": {
        "id": "0LIfs9wU6JXy"
      },
      "execution_count": 37,
      "outputs": []
    },
    {
      "cell_type": "code",
      "source": [
        "%%time\n",
        "urls=urls_scraping() # extract all vehicle urls from allowed 333 pages.\n",
        "urls[:10]"
      ],
      "metadata": {
        "colab": {
          "base_uri": "https://localhost:8080/"
        },
        "id": "K275I2Lf523-",
        "outputId": "b16ee0e6-c29a-4e43-f7f6-63411541b430"
      },
      "execution_count": 38,
      "outputs": [
        {
          "output_type": "stream",
          "name": "stdout",
          "text": [
            "CPU times: user 19.7 s, sys: 1.58 s, total: 21.2 s\n",
            "Wall time: 29min 44s\n"
          ]
        }
      ]
    },
    {
      "cell_type": "code",
      "source": [
        "print(len(urls))"
      ],
      "metadata": {
        "colab": {
          "base_uri": "https://localhost:8080/"
        },
        "id": "filJIOqIkEjZ",
        "outputId": "a17e43c3-908a-4166-f4b7-271634f5ad2d"
      },
      "execution_count": 40,
      "outputs": [
        {
          "output_type": "stream",
          "name": "stdout",
          "text": [
            "9990\n"
          ]
        }
      ]
    },
    {
      "cell_type": "code",
      "source": [
        "data = scraping(urls)"
      ],
      "metadata": {
        "id": "uzBtxkS556oL"
      },
      "execution_count": 41,
      "outputs": []
    },
    {
      "cell_type": "code",
      "source": [
        "data.shape"
      ],
      "metadata": {
        "colab": {
          "base_uri": "https://localhost:8080/"
        },
        "id": "OgkIr6GHC4Ai",
        "outputId": "23602ebb-1915-4402-d06b-6aa4e3f7a368"
      },
      "execution_count": 42,
      "outputs": [
        {
          "output_type": "execute_result",
          "data": {
            "text/plain": [
              "(9958, 10)"
            ]
          },
          "metadata": {},
          "execution_count": 42
        }
      ]
    },
    {
      "cell_type": "code",
      "source": [
        "data.tail(5)\n"
      ],
      "metadata": {
        "colab": {
          "base_uri": "https://localhost:8080/",
          "height": 343
        },
        "id": "5VKPbjwqC7OL",
        "outputId": "eec39f98-2b3b-4938-bfee-d109581e5bd0"
      },
      "execution_count": 43,
      "outputs": [
        {
          "output_type": "execute_result",
          "data": {
            "text/html": [
              "<div>\n",
              "<style scoped>\n",
              "    .dataframe tbody tr th:only-of-type {\n",
              "        vertical-align: middle;\n",
              "    }\n",
              "\n",
              "    .dataframe tbody tr th {\n",
              "        vertical-align: top;\n",
              "    }\n",
              "\n",
              "    .dataframe thead th {\n",
              "        text-align: right;\n",
              "    }\n",
              "</style>\n",
              "<table border=\"1\" class=\"dataframe\">\n",
              "  <thead>\n",
              "    <tr style=\"text-align: right;\">\n",
              "      <th></th>\n",
              "      <th>year</th>\n",
              "      <th>make</th>\n",
              "      <th>model</th>\n",
              "      <th>sub_model</th>\n",
              "      <th>price</th>\n",
              "      <th>exterior_color</th>\n",
              "      <th>engine</th>\n",
              "      <th>drive_type</th>\n",
              "      <th>fuel_type</th>\n",
              "      <th>transmission</th>\n",
              "    </tr>\n",
              "  </thead>\n",
              "  <tbody>\n",
              "    <tr>\n",
              "      <th>9953</th>\n",
              "      <td>2021</td>\n",
              "      <td>Jeep</td>\n",
              "      <td>Grand Cherokee</td>\n",
              "      <td>L Limited 4WD</td>\n",
              "      <td>$52,885</td>\n",
              "      <td>Bright White Clearcoat</td>\n",
              "      <td>3.6L V-6 Gas</td>\n",
              "      <td>4WD</td>\n",
              "      <td>Gas</td>\n",
              "      <td>Automatic</td>\n",
              "    </tr>\n",
              "    <tr>\n",
              "      <th>9954</th>\n",
              "      <td>2022</td>\n",
              "      <td>Ram</td>\n",
              "      <td>3500</td>\n",
              "      <td>Tradesman Crew Cab 8' Box 4WD</td>\n",
              "      <td>$62,918</td>\n",
              "      <td>Hydro Blue Pearlcoat</td>\n",
              "      <td>6.7L V-6 Diesel Turbocharged</td>\n",
              "      <td>4WD</td>\n",
              "      <td>Diesel</td>\n",
              "      <td>Automatic</td>\n",
              "    </tr>\n",
              "    <tr>\n",
              "      <th>9955</th>\n",
              "      <td>2021</td>\n",
              "      <td>Ford</td>\n",
              "      <td>Ranger</td>\n",
              "      <td>XLT SuperCrew 5' Box 4WD</td>\n",
              "      <td>$41,726</td>\n",
              "      <td>Cactus Gray</td>\n",
              "      <td>2.3L Inline-4 Gas Turbocharged</td>\n",
              "      <td>4WD</td>\n",
              "      <td>Gas</td>\n",
              "      <td>Automatic</td>\n",
              "    </tr>\n",
              "    <tr>\n",
              "      <th>9956</th>\n",
              "      <td>2022</td>\n",
              "      <td>Jeep</td>\n",
              "      <td>Compass</td>\n",
              "      <td>Trailhawk 4WD</td>\n",
              "      <td>$37,715</td>\n",
              "      <td>Diamond Black Crystal Pearlcoat</td>\n",
              "      <td>2.4L Inline-4 Gas</td>\n",
              "      <td>4WD</td>\n",
              "      <td>Gas</td>\n",
              "      <td>Automatic</td>\n",
              "    </tr>\n",
              "    <tr>\n",
              "      <th>9957</th>\n",
              "      <td>2021</td>\n",
              "      <td>Jeep</td>\n",
              "      <td>Wrangler</td>\n",
              "      <td>Rubicon</td>\n",
              "      <td>$50,357</td>\n",
              "      <td>Black Clearcoat</td>\n",
              "      <td>2.0L V-4 Gas Turbocharged</td>\n",
              "      <td>4WD</td>\n",
              "      <td>Gas</td>\n",
              "      <td>Automatic</td>\n",
              "    </tr>\n",
              "  </tbody>\n",
              "</table>\n",
              "</div>"
            ],
            "text/plain": [
              "      year  make           model  ... drive_type fuel_type transmission\n",
              "9953  2021  Jeep  Grand Cherokee  ...        4WD       Gas    Automatic\n",
              "9954  2022   Ram            3500  ...        4WD    Diesel    Automatic\n",
              "9955  2021  Ford          Ranger  ...        4WD       Gas    Automatic\n",
              "9956  2022  Jeep         Compass  ...        4WD       Gas    Automatic\n",
              "9957  2021  Jeep        Wrangler  ...        4WD       Gas    Automatic\n",
              "\n",
              "[5 rows x 10 columns]"
            ]
          },
          "metadata": {},
          "execution_count": 43
        }
      ]
    },
    {
      "cell_type": "code",
      "source": [
        "data.to_csv('new-listing.csv', encoding='utf-8')"
      ],
      "metadata": {
        "id": "wuEBEOdkgGOW"
      },
      "execution_count": 44,
      "outputs": []
    }
  ]
}