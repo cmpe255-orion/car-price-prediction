{
  "nbformat": 4,
  "nbformat_minor": 0,
  "metadata": {
    "colab": {
      "name": "scraping-truecar.ipynb",
      "provenance": [],
      "collapsed_sections": []
    },
    "kernelspec": {
      "name": "python3",
      "display_name": "Python 3"
    },
    "language_info": {
      "name": "python"
    }
  },
  "cells": [
    {
      "cell_type": "code",
      "execution_count": null,
      "metadata": {
        "id": "rsuIXsJpyRbX"
      },
      "outputs": [],
      "source": [
        "!pip install requests-cache"
      ]
    },
    {
      "cell_type": "code",
      "source": [
        "import requests\n",
        "import numpy as np\n",
        "import pandas as pd\n",
        "import requests_cache\n",
        "import lxml.html as html_parser\n",
        "import re"
      ],
      "metadata": {
        "id": "IbKL6V0kyZiw"
      },
      "execution_count": 2,
      "outputs": []
    },
    {
      "cell_type": "code",
      "source": [
        "MAX_PAGE = 333"
      ],
      "metadata": {
        "id": "U8gpT--Yyej0"
      },
      "execution_count": 3,
      "outputs": []
    },
    {
      "cell_type": "code",
      "source": [
        "## Get all the urls for all the listed used vehicles on truecar.com\n",
        "def urls_scraping(base_url = 'https://www.truecar.com/used-cars-for-sale/listings/'):\n",
        "    urls = []\n",
        "    pages = []\n",
        "    for i in range(1, MAX_PAGE+1):\n",
        "        pages.append(base_url + '?page=' + str(i))\n",
        "    for page in pages:\n",
        "        try:\n",
        "            response = requests.get(page)\n",
        "            response.raise_for_status()\n",
        "        except:\n",
        "            break\n",
        "        root = html_parser.fromstring(response.content)\n",
        "        url = ['https://www.truecar.com' + link for link in root.xpath('//div[@data-test=\"usedListing\"]/a/@href')]\n",
        "        urls += url\n",
        "    \n",
        "    return urls"
      ],
      "metadata": {
        "id": "uQjG5bpfyhrF"
      },
      "execution_count": 4,
      "outputs": []
    },
    {
      "cell_type": "code",
      "source": [
        "def page_scraping(url):\n",
        "    try:\n",
        "        response = requests.get(url)\n",
        "        response.raise_for_status()\n",
        "    except:\n",
        "        return\n",
        "    root = html_parser.fromstring(response.content)\n",
        "    \n",
        "    # extract vehicle year, make and model information\n",
        "    year_make_model = root.xpath('//h1[contains(@class,\"heading-base\")]/div[@class=\"heading-2\"]/text()')[0].strip()\n",
        "    year = year_make_model.split()[0]\n",
        "    make_model = year_make_model.split()[1:]\n",
        "    make = make_model[0]\n",
        "\n",
        "    model = ''\n",
        "    i = 1\n",
        "\n",
        "    while i < len(make_model):\n",
        "      model += make_model[i] + ' '\n",
        "      i += 1\n",
        "    \n",
        "    model = model.strip()\n",
        "\n",
        "    sub_model = root.xpath('//h1[contains(@class,\"heading-base\")]/div[@class=\"heading-base\"]/text()')[0].strip()\n",
        "\n",
        "    location = root.xpath('//div[@class=\"d-flex align-items-center padding-top-1\"]/p/text()')[0].strip()\n",
        "    city = location.split(',')[0].strip()\n",
        "    state = location.split(',')[1].strip()\n",
        "\n",
        "    mileage = root.xpath('//div[@class=\"d-flex flex-column margin-top-1\"]/p/text()')[0].strip()\n",
        "\n",
        "    price = root.xpath('//div[@data-test=\"vdpPreProspectPrice\"]/text()')[0].strip()\n",
        "\n",
        "    style = root.xpath('//div[@data-qa=\"Heading\" and contains(., \"Style\")]/following-sibling::p/text()')[0].strip()\n",
        "    exterior_color = root.xpath('//div[@data-qa=\"Heading\" and contains(., \"Exterior Color\")]/following-sibling::p/text()')[0].strip()\n",
        "    interior_color = root.xpath('//div[@data-qa=\"Heading\" and contains(., \"Interior Color\")]/following-sibling::p/text()')[0].strip()\n",
        "    engine = root.xpath('//div[@data-qa=\"Heading\" and contains(., \"Engine\")]/following-sibling::p/text()')[0].strip()\n",
        "    drive_type = root.xpath('//div[@data-qa=\"Heading\" and contains(., \"Drive Type\")]/following-sibling::p/text()')[0].strip()\n",
        "    fuel_type = root.xpath('//div[@data-qa=\"Heading\" and contains(., \"Fuel Type\")]/following-sibling::p/text()')[0].strip()\n",
        "    transmission = root.xpath('//div[@data-qa=\"Heading\" and contains(., \"Transmission\")]/following-sibling::p/text()')[0].strip()\n",
        "\n",
        "    accidents = root.xpath('//p[@class=\"_1crvurj\" and contains(., \"Accident\")]/../preceding-sibling::div/text()')[0].strip()\n",
        "    title = root.xpath('//p[@class=\"_1crvurj\" and contains(., \"Title\")]/../preceding-sibling::div/text()')[0].strip()\n",
        "    owners = root.xpath('//p[@class=\"_1crvurj\" and contains(., \"Owner\")]/../preceding-sibling::div/text()')[0].strip()\n",
        "    use_type = root.xpath('//p[@class=\"_1crvurj\" and contains(., \"Use Type\")]/../preceding-sibling::div/text()')[0].strip()\n",
        "\n",
        "    return pd.Series({'year':year, 'make':make, 'model':model, 'sub_model':sub_model, 'city':city, 'state':state, 'mileage':mileage,\n",
        "                      'price':price, 'style':style, 'exterior_color':exterior_color, 'interior_color':interior_color, \n",
        "                      'engine':engine, 'drive_type':drive_type, 'fuel_type':fuel_type,'transmission':transmission, 'accidents':accidents,\n",
        "                      'title':title, 'owners':owners,'use_type':use_type })"
      ],
      "metadata": {
        "id": "gkHkqFPYymkL"
      },
      "execution_count": 20,
      "outputs": []
    },
    {
      "cell_type": "code",
      "source": [
        "def scraping(urls):\n",
        "    scraping_data = [page_scraping(url) for url in urls]\n",
        "    return pd.concat(scraping_data, axis=1).T"
      ],
      "metadata": {
        "id": "0LIfs9wU6JXy"
      },
      "execution_count": 6,
      "outputs": []
    },
    {
      "cell_type": "code",
      "source": [
        "%%time\n",
        "urls=urls_scraping() # extract all vehicle urls from allowed 333 pages.\n",
        "urls[:10]"
      ],
      "metadata": {
        "colab": {
          "base_uri": "https://localhost:8080/"
        },
        "id": "K275I2Lf523-",
        "outputId": "8466af8e-4ba7-419e-97aa-a94d432cbd6d"
      },
      "execution_count": 7,
      "outputs": [
        {
          "output_type": "stream",
          "name": "stdout",
          "text": [
            "CPU times: user 15.6 s, sys: 779 ms, total: 16.3 s\n",
            "Wall time: 6min 4s\n"
          ]
        }
      ]
    },
    {
      "cell_type": "code",
      "source": [
        "print(len(urls))"
      ],
      "metadata": {
        "colab": {
          "base_uri": "https://localhost:8080/"
        },
        "id": "filJIOqIkEjZ",
        "outputId": "a47a5534-cc33-416d-ea13-e1bf92d1ef85"
      },
      "execution_count": 9,
      "outputs": [
        {
          "output_type": "stream",
          "name": "stdout",
          "text": [
            "9993\n"
          ]
        }
      ]
    },
    {
      "cell_type": "code",
      "source": [
        "data = scraping(urls)"
      ],
      "metadata": {
        "id": "uzBtxkS556oL"
      },
      "execution_count": 10,
      "outputs": []
    },
    {
      "cell_type": "code",
      "source": [
        "data.shape"
      ],
      "metadata": {
        "colab": {
          "base_uri": "https://localhost:8080/"
        },
        "id": "OgkIr6GHC4Ai",
        "outputId": "a257f37a-4699-473f-cb0c-59980b59da91"
      },
      "execution_count": 17,
      "outputs": [
        {
          "output_type": "execute_result",
          "data": {
            "text/plain": [
              "(9936, 20)"
            ]
          },
          "metadata": {},
          "execution_count": 17
        }
      ]
    },
    {
      "cell_type": "code",
      "source": [
        "data.tail(5)\n"
      ],
      "metadata": {
        "colab": {
          "base_uri": "https://localhost:8080/",
          "height": 360
        },
        "id": "5VKPbjwqC7OL",
        "outputId": "cef402b3-e606-4a66-c831-69150fad7a67"
      },
      "execution_count": 18,
      "outputs": [
        {
          "output_type": "execute_result",
          "data": {
            "text/html": [
              "<div>\n",
              "<style scoped>\n",
              "    .dataframe tbody tr th:only-of-type {\n",
              "        vertical-align: middle;\n",
              "    }\n",
              "\n",
              "    .dataframe tbody tr th {\n",
              "        vertical-align: top;\n",
              "    }\n",
              "\n",
              "    .dataframe thead th {\n",
              "        text-align: right;\n",
              "    }\n",
              "</style>\n",
              "<table border=\"1\" class=\"dataframe\">\n",
              "  <thead>\n",
              "    <tr style=\"text-align: right;\">\n",
              "      <th></th>\n",
              "      <th>year</th>\n",
              "      <th>make</th>\n",
              "      <th>model</th>\n",
              "      <th>sub_model</th>\n",
              "      <th>city</th>\n",
              "      <th>state</th>\n",
              "      <th>mileage</th>\n",
              "      <th>price</th>\n",
              "      <th>style</th>\n",
              "      <th>exterior_color</th>\n",
              "      <th>interior_color</th>\n",
              "      <th>engine</th>\n",
              "      <th>drive_type</th>\n",
              "      <th>fuel_type</th>\n",
              "      <th>transmission</th>\n",
              "      <th>accidents</th>\n",
              "      <th>title</th>\n",
              "      <th>owners</th>\n",
              "      <th>use_type</th>\n",
              "      <th>cpo</th>\n",
              "    </tr>\n",
              "  </thead>\n",
              "  <tbody>\n",
              "    <tr>\n",
              "      <th>9931</th>\n",
              "      <td>2019</td>\n",
              "      <td>Toyota</td>\n",
              "      <td>Tacoma</td>\n",
              "      <td>TRD Sport Double Cab 5' Bed V6 2WD Automatic</td>\n",
              "      <td>Odessa</td>\n",
              "      <td>TX</td>\n",
              "      <td>20,455</td>\n",
              "      <td>$38,988</td>\n",
              "      <td>Pickup Truck</td>\n",
              "      <td>Barcelona Red Metallic</td>\n",
              "      <td>Graphite W/ Gun Metal</td>\n",
              "      <td>3.5L V-6 Gas</td>\n",
              "      <td>RWD</td>\n",
              "      <td>Gas</td>\n",
              "      <td>Automatic</td>\n",
              "      <td>0</td>\n",
              "      <td>Clean</td>\n",
              "      <td>2</td>\n",
              "      <td>Personal Use</td>\n",
              "      <td>True</td>\n",
              "    </tr>\n",
              "    <tr>\n",
              "      <th>9932</th>\n",
              "      <td>2019</td>\n",
              "      <td>Honda</td>\n",
              "      <td>CR-V</td>\n",
              "      <td>EX AWD</td>\n",
              "      <td>Brockton</td>\n",
              "      <td>MA</td>\n",
              "      <td>39,071</td>\n",
              "      <td>$29,296</td>\n",
              "      <td>SUV</td>\n",
              "      <td>Modern Steel Metallic</td>\n",
              "      <td>Gray</td>\n",
              "      <td>1.5L Inline-4 Gas Turbocharged</td>\n",
              "      <td>AWD</td>\n",
              "      <td>Gas</td>\n",
              "      <td>Automatic</td>\n",
              "      <td>0</td>\n",
              "      <td>Clean</td>\n",
              "      <td>1</td>\n",
              "      <td>Personal Use</td>\n",
              "      <td>True</td>\n",
              "    </tr>\n",
              "    <tr>\n",
              "      <th>9933</th>\n",
              "      <td>2016</td>\n",
              "      <td>Dodge</td>\n",
              "      <td>Journey</td>\n",
              "      <td>SE FWD</td>\n",
              "      <td>Frederick</td>\n",
              "      <td>MD</td>\n",
              "      <td>116,443</td>\n",
              "      <td>$9,995</td>\n",
              "      <td>SUV</td>\n",
              "      <td>White</td>\n",
              "      <td>Black</td>\n",
              "      <td>2.4L Inline-4 Gas</td>\n",
              "      <td>FWD</td>\n",
              "      <td>Gas</td>\n",
              "      <td>Automatic</td>\n",
              "      <td>0</td>\n",
              "      <td>Clean</td>\n",
              "      <td>1</td>\n",
              "      <td>Fleet Use</td>\n",
              "      <td>True</td>\n",
              "    </tr>\n",
              "    <tr>\n",
              "      <th>9934</th>\n",
              "      <td>2020</td>\n",
              "      <td>Toyota</td>\n",
              "      <td>Corolla</td>\n",
              "      <td>L CVT</td>\n",
              "      <td>Seffner</td>\n",
              "      <td>FL</td>\n",
              "      <td>28,689</td>\n",
              "      <td>$17,494</td>\n",
              "      <td>Sedan</td>\n",
              "      <td>Black Sand Pearl</td>\n",
              "      <td>Light Gray</td>\n",
              "      <td>1.8L Inline-4 Gas</td>\n",
              "      <td>FWD</td>\n",
              "      <td>Gas</td>\n",
              "      <td>Automatic</td>\n",
              "      <td>0</td>\n",
              "      <td>Clean</td>\n",
              "      <td>1</td>\n",
              "      <td>Personal Use</td>\n",
              "      <td>True</td>\n",
              "    </tr>\n",
              "    <tr>\n",
              "      <th>9935</th>\n",
              "      <td>2019</td>\n",
              "      <td>Toyota</td>\n",
              "      <td>Camry</td>\n",
              "      <td>L Automatic</td>\n",
              "      <td>Columbia</td>\n",
              "      <td>TN</td>\n",
              "      <td>62,483</td>\n",
              "      <td>$24,992</td>\n",
              "      <td>Sedan</td>\n",
              "      <td>Midnight Black Metallic</td>\n",
              "      <td>Ash</td>\n",
              "      <td>2.5L Inline-4 Gas</td>\n",
              "      <td>FWD</td>\n",
              "      <td>Gas</td>\n",
              "      <td>Automatic</td>\n",
              "      <td>0</td>\n",
              "      <td>Clean</td>\n",
              "      <td>1</td>\n",
              "      <td>Personal Use</td>\n",
              "      <td>True</td>\n",
              "    </tr>\n",
              "  </tbody>\n",
              "</table>\n",
              "</div>"
            ],
            "text/plain": [
              "      year    make    model  ... owners      use_type   cpo\n",
              "9931  2019  Toyota   Tacoma  ...      2  Personal Use  True\n",
              "9932  2019   Honda     CR-V  ...      1  Personal Use  True\n",
              "9933  2016   Dodge  Journey  ...      1     Fleet Use  True\n",
              "9934  2020  Toyota  Corolla  ...      1  Personal Use  True\n",
              "9935  2019  Toyota    Camry  ...      1  Personal Use  True\n",
              "\n",
              "[5 rows x 20 columns]"
            ]
          },
          "metadata": {},
          "execution_count": 18
        }
      ]
    },
    {
      "cell_type": "code",
      "source": [
        "data.to_csv('listing.csv', encoding='utf-8')"
      ],
      "metadata": {
        "id": "wuEBEOdkgGOW"
      },
      "execution_count": 19,
      "outputs": []
    }
  ]
}