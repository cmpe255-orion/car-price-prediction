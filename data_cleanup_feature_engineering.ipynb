{
  "nbformat": 4,
  "nbformat_minor": 0,
  "metadata": {
    "colab": {
      "name": "data-cleanup-feature-engineering.ipynb",
      "provenance": [],
      "collapsed_sections": []
    },
    "kernelspec": {
      "name": "python3",
      "display_name": "Python 3"
    },
    "language_info": {
      "name": "python"
    }
  },
  "cells": [
    {
      "cell_type": "code",
      "execution_count": 70,
      "metadata": {
        "id": "t7WhxmsVaZiO"
      },
      "outputs": [],
      "source": [
        "import pandas as pd\n",
        "import numpy as np\n",
        "import matplotlib.pyplot as plt\n",
        "import re\n",
        "import warnings\n",
        "warnings.filterwarnings(\"ignore\")"
      ]
    },
    {
      "cell_type": "code",
      "source": [
        "df = pd.read_csv('https://raw.githubusercontent.com/cmpe255-orion/car-price-prediction/main/listing.csv')\n",
        "del df['Unnamed: 0']\n",
        "print(df.shape)\n",
        "df.head(5)"
      ],
      "metadata": {
        "colab": {
          "base_uri": "https://localhost:8080/",
          "height": 411
        },
        "id": "dio4Wzodaify",
        "outputId": "eca46e1f-3530-4f31-8bbe-78fe1070b759"
      },
      "execution_count": 71,
      "outputs": [
        {
          "output_type": "stream",
          "name": "stdout",
          "text": [
            "(9936, 20)\n"
          ]
        },
        {
          "output_type": "execute_result",
          "data": {
            "text/html": [
              "<div>\n",
              "<style scoped>\n",
              "    .dataframe tbody tr th:only-of-type {\n",
              "        vertical-align: middle;\n",
              "    }\n",
              "\n",
              "    .dataframe tbody tr th {\n",
              "        vertical-align: top;\n",
              "    }\n",
              "\n",
              "    .dataframe thead th {\n",
              "        text-align: right;\n",
              "    }\n",
              "</style>\n",
              "<table border=\"1\" class=\"dataframe\">\n",
              "  <thead>\n",
              "    <tr style=\"text-align: right;\">\n",
              "      <th></th>\n",
              "      <th>year</th>\n",
              "      <th>make</th>\n",
              "      <th>model</th>\n",
              "      <th>sub_model</th>\n",
              "      <th>city</th>\n",
              "      <th>state</th>\n",
              "      <th>mileage</th>\n",
              "      <th>price</th>\n",
              "      <th>style</th>\n",
              "      <th>exterior_color</th>\n",
              "      <th>interior_color</th>\n",
              "      <th>engine</th>\n",
              "      <th>drive_type</th>\n",
              "      <th>fuel_type</th>\n",
              "      <th>transmission</th>\n",
              "      <th>accidents</th>\n",
              "      <th>title</th>\n",
              "      <th>owners</th>\n",
              "      <th>use_type</th>\n",
              "      <th>cpo</th>\n",
              "    </tr>\n",
              "  </thead>\n",
              "  <tbody>\n",
              "    <tr>\n",
              "      <th>0</th>\n",
              "      <td>2021</td>\n",
              "      <td>Chevrolet</td>\n",
              "      <td>Suburban</td>\n",
              "      <td>LT RWD</td>\n",
              "      <td>San Antonio</td>\n",
              "      <td>TX</td>\n",
              "      <td>8,404</td>\n",
              "      <td>$67,994</td>\n",
              "      <td>SUV</td>\n",
              "      <td>Satin Steel Metallic</td>\n",
              "      <td>Jet Black</td>\n",
              "      <td>5.3L V-8 Gas</td>\n",
              "      <td>RWD</td>\n",
              "      <td>Gas</td>\n",
              "      <td>Automatic</td>\n",
              "      <td>0</td>\n",
              "      <td>Clean</td>\n",
              "      <td>1</td>\n",
              "      <td>Personal Use</td>\n",
              "      <td>True</td>\n",
              "    </tr>\n",
              "    <tr>\n",
              "      <th>1</th>\n",
              "      <td>2017</td>\n",
              "      <td>Cadillac</td>\n",
              "      <td>CTS</td>\n",
              "      <td>Premium Luxury 3.6 AWD</td>\n",
              "      <td>Phoenix</td>\n",
              "      <td>AZ</td>\n",
              "      <td>29,342</td>\n",
              "      <td>$37,000</td>\n",
              "      <td>Sedan</td>\n",
              "      <td>Black Raven</td>\n",
              "      <td>Jet Black With Morello Red Accents</td>\n",
              "      <td>3.6L V-6 Gas</td>\n",
              "      <td>AWD</td>\n",
              "      <td>Gas</td>\n",
              "      <td>Automatic</td>\n",
              "      <td>0</td>\n",
              "      <td>Clean</td>\n",
              "      <td>1</td>\n",
              "      <td>Personal Use</td>\n",
              "      <td>True</td>\n",
              "    </tr>\n",
              "    <tr>\n",
              "      <th>2</th>\n",
              "      <td>2019</td>\n",
              "      <td>Kia</td>\n",
              "      <td>Forte</td>\n",
              "      <td>LXS IVT</td>\n",
              "      <td>Bensalem</td>\n",
              "      <td>PA</td>\n",
              "      <td>17,593</td>\n",
              "      <td>$22,395</td>\n",
              "      <td>Sedan</td>\n",
              "      <td>Clear White</td>\n",
              "      <td>Black</td>\n",
              "      <td>2.0L Inline-4 Gas</td>\n",
              "      <td>FWD</td>\n",
              "      <td>Gas</td>\n",
              "      <td>Automatic</td>\n",
              "      <td>0</td>\n",
              "      <td>Clean</td>\n",
              "      <td>2</td>\n",
              "      <td>Personal Use</td>\n",
              "      <td>True</td>\n",
              "    </tr>\n",
              "    <tr>\n",
              "      <th>3</th>\n",
              "      <td>2018</td>\n",
              "      <td>Ford</td>\n",
              "      <td>F-150</td>\n",
              "      <td>XLT SuperCrew 5.5' Box 4WD</td>\n",
              "      <td>Hudson</td>\n",
              "      <td>WI</td>\n",
              "      <td>195,205</td>\n",
              "      <td>$20,995</td>\n",
              "      <td>Pickup Truck</td>\n",
              "      <td>Shadow Black</td>\n",
              "      <td>Medium Earth Gray</td>\n",
              "      <td>2.7L V-6 Gas Turbocharged</td>\n",
              "      <td>4WD</td>\n",
              "      <td>Gas</td>\n",
              "      <td>Automatic</td>\n",
              "      <td>0</td>\n",
              "      <td>Clean</td>\n",
              "      <td>1</td>\n",
              "      <td>Personal Use</td>\n",
              "      <td>True</td>\n",
              "    </tr>\n",
              "    <tr>\n",
              "      <th>4</th>\n",
              "      <td>2018</td>\n",
              "      <td>Ford</td>\n",
              "      <td>F-150</td>\n",
              "      <td>XLT SuperCrew 5.5' Box 4WD</td>\n",
              "      <td>Pikeville</td>\n",
              "      <td>KY</td>\n",
              "      <td>47,922</td>\n",
              "      <td>$32,988</td>\n",
              "      <td>Pickup Truck</td>\n",
              "      <td>Black</td>\n",
              "      <td>Black</td>\n",
              "      <td>3.3L V-6 Gas</td>\n",
              "      <td>4WD</td>\n",
              "      <td>Gas</td>\n",
              "      <td>Automatic</td>\n",
              "      <td>0</td>\n",
              "      <td>Clean</td>\n",
              "      <td>4</td>\n",
              "      <td>Rental Use</td>\n",
              "      <td>True</td>\n",
              "    </tr>\n",
              "  </tbody>\n",
              "</table>\n",
              "</div>"
            ],
            "text/plain": [
              "   year       make     model  ... owners      use_type   cpo\n",
              "0  2021  Chevrolet  Suburban  ...      1  Personal Use  True\n",
              "1  2017   Cadillac       CTS  ...      1  Personal Use  True\n",
              "2  2019        Kia     Forte  ...      2  Personal Use  True\n",
              "3  2018       Ford     F-150  ...      1  Personal Use  True\n",
              "4  2018       Ford     F-150  ...      4    Rental Use  True\n",
              "\n",
              "[5 rows x 20 columns]"
            ]
          },
          "metadata": {},
          "execution_count": 71
        }
      ]
    },
    {
      "cell_type": "markdown",
      "source": [
        "This dataset scraped from TrueCar has 9936 car listings with 20 columns. The following are the column descriptions:\n",
        "<pre>\n",
        "1. year:            Model Year\n",
        "2. make:            Manufacturer\n",
        "3. model:           Vehicle Model\n",
        "4. sub_model:       Vehicle Model variant\n",
        "5. city:            City where the car is located\n",
        "6. state:           State where the car is located\n",
        "7. mileage:         Car's current odometer reading\n",
        "8. price:           Car's selling price\n",
        "9. style:           Style of the car\n",
        "10. exterior_color: Car's exterior color\n",
        "11. interior_color: Car's interior color\n",
        "12. engine:         Car's engine specification\n",
        "13. drive_type:     Drive Type\n",
        "14. fuel_type:      Type of fuel\n",
        "15. transmission:   Type of transmission\n",
        "16. accidents:      Number of accidents\n",
        "17. title:          Type of title(clean or salvaged, etc..)\n",
        "18. owners:         Number of previous owners\n",
        "19. use_type:       Type of usage of the car\n",
        "20. cpo:            Certified Pre-Owned or Not\n",
        "</pre>\n",
        "\n"
      ],
      "metadata": {
        "id": "c6v14o_RcqTs"
      }
    },
    {
      "cell_type": "markdown",
      "source": [
        "**Check for unique values**"
      ],
      "metadata": {
        "id": "FbW7z1Exjxgi"
      }
    },
    {
      "cell_type": "code",
      "source": [
        "print(df['style'].unique())\n",
        "print(df['drive_type'].unique())\n",
        "print(df['fuel_type'].unique())\n",
        "print(df['transmission'].unique())\n",
        "print(df['accidents'].unique())\n",
        "print(df['title'].unique())\n",
        "print(df['owners'].unique())\n",
        "print(df['use_type'].unique())\n",
        "print(df['cpo'].unique())"
      ],
      "metadata": {
        "colab": {
          "base_uri": "https://localhost:8080/"
        },
        "id": "n6R7oEMYggVg",
        "outputId": "33a17975-3c57-40fd-ade3-b38290df003b"
      },
      "execution_count": 72,
      "outputs": [
        {
          "output_type": "stream",
          "name": "stdout",
          "text": [
            "['SUV' 'Sedan' 'Pickup Truck' 'Minivan' 'Coupe' 'Hatchback' 'Cargo Van'\n",
            " 'Convertible' 'Passenger Van' 'Wagon' 'Chassis Cab Truck']\n",
            "['RWD' 'AWD' 'FWD' '4WD']\n",
            "['Gas' 'Hybrid' 'Diesel' 'Electric' 'Plug-In Hybrid' 'Hydrogen']\n",
            "['Automatic' 'Manual']\n",
            "[0 1 2 3 5 4]\n",
            "['Clean' 'Salvage History' 'Theft History' 'Lemon History']\n",
            "[ 1  2  4  3  0  5  7  6  8  9 10]\n",
            "['Personal Use' 'Rental Use' 'Mixed Use' 'Fleet Use']\n",
            "[ True]\n"
          ]
        }
      ]
    },
    {
      "cell_type": "markdown",
      "source": [
        "Here we find that cpo has only one value 'True'. Probably that field has wrong data. Hence it can be removed."
      ],
      "metadata": {
        "id": "Cu_TSqeLkKUm"
      }
    },
    {
      "cell_type": "code",
      "source": [
        "del df['cpo']\n",
        "df.shape"
      ],
      "metadata": {
        "colab": {
          "base_uri": "https://localhost:8080/"
        },
        "id": "e-NHv5mXkUxI",
        "outputId": "223a5444-dd94-4b89-e816-d00dd7af7722"
      },
      "execution_count": 73,
      "outputs": [
        {
          "output_type": "execute_result",
          "data": {
            "text/plain": [
              "(9936, 19)"
            ]
          },
          "metadata": {},
          "execution_count": 73
        }
      ]
    },
    {
      "cell_type": "markdown",
      "source": [
        "**Check for missing values**"
      ],
      "metadata": {
        "id": "1SmFeYhdlm4d"
      }
    },
    {
      "cell_type": "code",
      "source": [
        "df.isna().sum()"
      ],
      "metadata": {
        "colab": {
          "base_uri": "https://localhost:8080/"
        },
        "id": "xYc4aneHlbEY",
        "outputId": "8df90de8-e2a5-4678-ccd7-311bcaafbbea"
      },
      "execution_count": 74,
      "outputs": [
        {
          "output_type": "execute_result",
          "data": {
            "text/plain": [
              "year              0\n",
              "make              0\n",
              "model             0\n",
              "sub_model         0\n",
              "city              0\n",
              "state             0\n",
              "mileage           0\n",
              "price             0\n",
              "style             0\n",
              "exterior_color    0\n",
              "interior_color    0\n",
              "engine            0\n",
              "drive_type        0\n",
              "fuel_type         0\n",
              "transmission      0\n",
              "accidents         0\n",
              "title             0\n",
              "owners            0\n",
              "use_type          0\n",
              "dtype: int64"
            ]
          },
          "metadata": {},
          "execution_count": 74
        }
      ]
    },
    {
      "cell_type": "markdown",
      "source": [
        "We find that there are no missing values"
      ],
      "metadata": {
        "id": "HM82w3AFraay"
      }
    },
    {
      "cell_type": "markdown",
      "source": [
        "**Check the data type of the columns**"
      ],
      "metadata": {
        "id": "WX1keC-drqks"
      }
    },
    {
      "cell_type": "code",
      "source": [
        "df.info()"
      ],
      "metadata": {
        "colab": {
          "base_uri": "https://localhost:8080/"
        },
        "id": "0UZjMcb7rt-q",
        "outputId": "b2f1eb86-ac9c-4396-f058-075dababef9d"
      },
      "execution_count": 75,
      "outputs": [
        {
          "output_type": "stream",
          "name": "stdout",
          "text": [
            "<class 'pandas.core.frame.DataFrame'>\n",
            "RangeIndex: 9936 entries, 0 to 9935\n",
            "Data columns (total 19 columns):\n",
            " #   Column          Non-Null Count  Dtype \n",
            "---  ------          --------------  ----- \n",
            " 0   year            9936 non-null   int64 \n",
            " 1   make            9936 non-null   object\n",
            " 2   model           9936 non-null   object\n",
            " 3   sub_model       9936 non-null   object\n",
            " 4   city            9936 non-null   object\n",
            " 5   state           9936 non-null   object\n",
            " 6   mileage         9936 non-null   object\n",
            " 7   price           9936 non-null   object\n",
            " 8   style           9936 non-null   object\n",
            " 9   exterior_color  9936 non-null   object\n",
            " 10  interior_color  9936 non-null   object\n",
            " 11  engine          9936 non-null   object\n",
            " 12  drive_type      9936 non-null   object\n",
            " 13  fuel_type       9936 non-null   object\n",
            " 14  transmission    9936 non-null   object\n",
            " 15  accidents       9936 non-null   int64 \n",
            " 16  title           9936 non-null   object\n",
            " 17  owners          9936 non-null   int64 \n",
            " 18  use_type        9936 non-null   object\n",
            "dtypes: int64(3), object(16)\n",
            "memory usage: 1.4+ MB\n"
          ]
        }
      ]
    },
    {
      "cell_type": "markdown",
      "source": [
        "We could conver the fields mileage to numeric and remove the $ sign and comma from the price."
      ],
      "metadata": {
        "id": "ydT15sTqreTZ"
      }
    },
    {
      "cell_type": "code",
      "source": [
        "df['mileage'] = df['mileage'].apply(lambda x: ''.join(x.split(',')))\n",
        "df['mileage'] = df['mileage'].astype(int)\n",
        "df['mileage'].head()"
      ],
      "metadata": {
        "colab": {
          "base_uri": "https://localhost:8080/"
        },
        "id": "xy7OBfJGl_hy",
        "outputId": "6acd72ea-3cc5-43d1-e08c-a21c5de33b7b"
      },
      "execution_count": 76,
      "outputs": [
        {
          "output_type": "execute_result",
          "data": {
            "text/plain": [
              "0      8404\n",
              "1     29342\n",
              "2     17593\n",
              "3    195205\n",
              "4     47922\n",
              "Name: mileage, dtype: int64"
            ]
          },
          "metadata": {},
          "execution_count": 76
        }
      ]
    },
    {
      "cell_type": "code",
      "source": [
        "df['price'] = df['price'].str.replace(r'$', '')\n",
        "df['price'] = df['price'].str.replace(r',', '')\n",
        "df['price'].head()"
      ],
      "metadata": {
        "colab": {
          "base_uri": "https://localhost:8080/"
        },
        "id": "MHI95QTtpwxF",
        "outputId": "7ab1c119-4e02-4225-a1cf-16ac8dc9fb82"
      },
      "execution_count": 77,
      "outputs": [
        {
          "output_type": "execute_result",
          "data": {
            "text/plain": [
              "0    67994\n",
              "1    37000\n",
              "2    22395\n",
              "3    20995\n",
              "4    32988\n",
              "Name: price, dtype: object"
            ]
          },
          "metadata": {},
          "execution_count": 77
        }
      ]
    },
    {
      "cell_type": "code",
      "source": [
        "df.info()"
      ],
      "metadata": {
        "colab": {
          "base_uri": "https://localhost:8080/"
        },
        "id": "suCufsIgmoUj",
        "outputId": "6ab85c93-960e-4695-b56c-e14a261b1b78"
      },
      "execution_count": 78,
      "outputs": [
        {
          "output_type": "stream",
          "name": "stdout",
          "text": [
            "<class 'pandas.core.frame.DataFrame'>\n",
            "RangeIndex: 9936 entries, 0 to 9935\n",
            "Data columns (total 19 columns):\n",
            " #   Column          Non-Null Count  Dtype \n",
            "---  ------          --------------  ----- \n",
            " 0   year            9936 non-null   int64 \n",
            " 1   make            9936 non-null   object\n",
            " 2   model           9936 non-null   object\n",
            " 3   sub_model       9936 non-null   object\n",
            " 4   city            9936 non-null   object\n",
            " 5   state           9936 non-null   object\n",
            " 6   mileage         9936 non-null   int64 \n",
            " 7   price           9936 non-null   object\n",
            " 8   style           9936 non-null   object\n",
            " 9   exterior_color  9936 non-null   object\n",
            " 10  interior_color  9936 non-null   object\n",
            " 11  engine          9936 non-null   object\n",
            " 12  drive_type      9936 non-null   object\n",
            " 13  fuel_type       9936 non-null   object\n",
            " 14  transmission    9936 non-null   object\n",
            " 15  accidents       9936 non-null   int64 \n",
            " 16  title           9936 non-null   object\n",
            " 17  owners          9936 non-null   int64 \n",
            " 18  use_type        9936 non-null   object\n",
            "dtypes: int64(4), object(15)\n",
            "memory usage: 1.4+ MB\n"
          ]
        }
      ]
    },
    {
      "cell_type": "markdown",
      "source": [
        "**Check for duplicates and remove them**"
      ],
      "metadata": {
        "id": "AWR9lnwXo7ud"
      }
    },
    {
      "cell_type": "code",
      "source": [
        "print(df.duplicated().sum())\n",
        "df.shape\n",
        "df = df.drop_duplicates(keep='first')\n",
        "df.shape"
      ],
      "metadata": {
        "colab": {
          "base_uri": "https://localhost:8080/"
        },
        "id": "saueAU9Dm2TQ",
        "outputId": "1aa176ee-50bc-4b26-df35-977d93597cc6"
      },
      "execution_count": 79,
      "outputs": [
        {
          "output_type": "stream",
          "name": "stdout",
          "text": [
            "29\n"
          ]
        },
        {
          "output_type": "execute_result",
          "data": {
            "text/plain": [
              "(9907, 19)"
            ]
          },
          "metadata": {},
          "execution_count": 79
        }
      ]
    },
    {
      "cell_type": "markdown",
      "source": [
        "Apparently there were 29 duplicate records and we have removed them."
      ],
      "metadata": {
        "id": "gRZe9uH1uyZG"
      }
    },
    {
      "cell_type": "markdown",
      "source": [
        "**Outlier Analysis**"
      ],
      "metadata": {
        "id": "h_6yuDPMvB6H"
      }
    },
    {
      "cell_type": "markdown",
      "source": [
        "Check the mileage and price for any discrepancy in values"
      ],
      "metadata": {
        "id": "_aC5makFvD0k"
      }
    },
    {
      "cell_type": "code",
      "source": [
        "display(df.sort_values(by='mileage',ascending=True).head(3))\n",
        "display(df.sort_values(by='mileage',ascending=False).head(3))"
      ],
      "metadata": {
        "colab": {
          "base_uri": "https://localhost:8080/",
          "height": 508
        },
        "id": "z2_cxzq5pFJH",
        "outputId": "d9d84eb3-0643-4676-eed5-ebc07b14c001"
      },
      "execution_count": 85,
      "outputs": [
        {
          "output_type": "display_data",
          "data": {
            "text/html": [
              "<div>\n",
              "<style scoped>\n",
              "    .dataframe tbody tr th:only-of-type {\n",
              "        vertical-align: middle;\n",
              "    }\n",
              "\n",
              "    .dataframe tbody tr th {\n",
              "        vertical-align: top;\n",
              "    }\n",
              "\n",
              "    .dataframe thead th {\n",
              "        text-align: right;\n",
              "    }\n",
              "</style>\n",
              "<table border=\"1\" class=\"dataframe\">\n",
              "  <thead>\n",
              "    <tr style=\"text-align: right;\">\n",
              "      <th></th>\n",
              "      <th>year</th>\n",
              "      <th>make</th>\n",
              "      <th>model</th>\n",
              "      <th>sub_model</th>\n",
              "      <th>city</th>\n",
              "      <th>state</th>\n",
              "      <th>mileage</th>\n",
              "      <th>price</th>\n",
              "      <th>style</th>\n",
              "      <th>exterior_color</th>\n",
              "      <th>interior_color</th>\n",
              "      <th>engine</th>\n",
              "      <th>drive_type</th>\n",
              "      <th>fuel_type</th>\n",
              "      <th>transmission</th>\n",
              "      <th>accidents</th>\n",
              "      <th>title</th>\n",
              "      <th>owners</th>\n",
              "      <th>use_type</th>\n",
              "    </tr>\n",
              "  </thead>\n",
              "  <tbody>\n",
              "    <tr>\n",
              "      <th>3072</th>\n",
              "      <td>2020</td>\n",
              "      <td>Toyota</td>\n",
              "      <td>Corolla</td>\n",
              "      <td>LE CVT</td>\n",
              "      <td>Hardeeville</td>\n",
              "      <td>SC</td>\n",
              "      <td>9</td>\n",
              "      <td>19975</td>\n",
              "      <td>Sedan</td>\n",
              "      <td>Classic Silver Metallic</td>\n",
              "      <td>Light Gray</td>\n",
              "      <td>1.8L Inline-4 Gas</td>\n",
              "      <td>FWD</td>\n",
              "      <td>Gas</td>\n",
              "      <td>Automatic</td>\n",
              "      <td>0</td>\n",
              "      <td>Clean</td>\n",
              "      <td>1</td>\n",
              "      <td>Personal Use</td>\n",
              "    </tr>\n",
              "    <tr>\n",
              "      <th>3572</th>\n",
              "      <td>2019</td>\n",
              "      <td>BMW</td>\n",
              "      <td>7 Series</td>\n",
              "      <td>740i RWD</td>\n",
              "      <td>Houston</td>\n",
              "      <td>TX</td>\n",
              "      <td>12</td>\n",
              "      <td>56486</td>\n",
              "      <td>Sedan</td>\n",
              "      <td>Black Sapphire Metallic</td>\n",
              "      <td>Black</td>\n",
              "      <td>3.0L Inline-6 Gas Turbocharged</td>\n",
              "      <td>RWD</td>\n",
              "      <td>Gas</td>\n",
              "      <td>Automatic</td>\n",
              "      <td>0</td>\n",
              "      <td>Clean</td>\n",
              "      <td>1</td>\n",
              "      <td>Personal Use</td>\n",
              "    </tr>\n",
              "    <tr>\n",
              "      <th>404</th>\n",
              "      <td>2021</td>\n",
              "      <td>Mercedes-Benz</td>\n",
              "      <td>C-Class</td>\n",
              "      <td>C 300 Sedan RWD</td>\n",
              "      <td>Naples</td>\n",
              "      <td>FL</td>\n",
              "      <td>37</td>\n",
              "      <td>43850</td>\n",
              "      <td>Sedan</td>\n",
              "      <td>Polar White</td>\n",
              "      <td>Silk Beige</td>\n",
              "      <td>2.0L Inline-4 Gas Turbocharged</td>\n",
              "      <td>RWD</td>\n",
              "      <td>Gas</td>\n",
              "      <td>Automatic</td>\n",
              "      <td>0</td>\n",
              "      <td>Clean</td>\n",
              "      <td>1</td>\n",
              "      <td>Personal Use</td>\n",
              "    </tr>\n",
              "  </tbody>\n",
              "</table>\n",
              "</div>"
            ],
            "text/plain": [
              "      year           make     model  ...  title owners      use_type\n",
              "3072  2020         Toyota   Corolla  ...  Clean      1  Personal Use\n",
              "3572  2019            BMW  7 Series  ...  Clean      1  Personal Use\n",
              "404   2021  Mercedes-Benz   C-Class  ...  Clean      1  Personal Use\n",
              "\n",
              "[3 rows x 19 columns]"
            ]
          },
          "metadata": {}
        },
        {
          "output_type": "display_data",
          "data": {
            "text/html": [
              "<div>\n",
              "<style scoped>\n",
              "    .dataframe tbody tr th:only-of-type {\n",
              "        vertical-align: middle;\n",
              "    }\n",
              "\n",
              "    .dataframe tbody tr th {\n",
              "        vertical-align: top;\n",
              "    }\n",
              "\n",
              "    .dataframe thead th {\n",
              "        text-align: right;\n",
              "    }\n",
              "</style>\n",
              "<table border=\"1\" class=\"dataframe\">\n",
              "  <thead>\n",
              "    <tr style=\"text-align: right;\">\n",
              "      <th></th>\n",
              "      <th>year</th>\n",
              "      <th>make</th>\n",
              "      <th>model</th>\n",
              "      <th>sub_model</th>\n",
              "      <th>city</th>\n",
              "      <th>state</th>\n",
              "      <th>mileage</th>\n",
              "      <th>price</th>\n",
              "      <th>style</th>\n",
              "      <th>exterior_color</th>\n",
              "      <th>interior_color</th>\n",
              "      <th>engine</th>\n",
              "      <th>drive_type</th>\n",
              "      <th>fuel_type</th>\n",
              "      <th>transmission</th>\n",
              "      <th>accidents</th>\n",
              "      <th>title</th>\n",
              "      <th>owners</th>\n",
              "      <th>use_type</th>\n",
              "    </tr>\n",
              "  </thead>\n",
              "  <tbody>\n",
              "    <tr>\n",
              "      <th>46</th>\n",
              "      <td>2014</td>\n",
              "      <td>Ford</td>\n",
              "      <td>F-150</td>\n",
              "      <td>XLT SuperCab 8.0' Box 4WD</td>\n",
              "      <td>Cincinnati</td>\n",
              "      <td>OH</td>\n",
              "      <td>380309</td>\n",
              "      <td>10989</td>\n",
              "      <td>Pickup Truck</td>\n",
              "      <td>Tuxedo Black Metallic</td>\n",
              "      <td>Steel Gray</td>\n",
              "      <td>5.0L V-8 Gas</td>\n",
              "      <td>4WD</td>\n",
              "      <td>Gas</td>\n",
              "      <td>Automatic</td>\n",
              "      <td>1</td>\n",
              "      <td>Clean</td>\n",
              "      <td>2</td>\n",
              "      <td>Personal Use</td>\n",
              "    </tr>\n",
              "    <tr>\n",
              "      <th>9453</th>\n",
              "      <td>2014</td>\n",
              "      <td>Ram</td>\n",
              "      <td>3500 Chassis Cab</td>\n",
              "      <td>4WD Crew Cab 172\" WB 60\" CA SLT</td>\n",
              "      <td>Murfreesboro</td>\n",
              "      <td>TN</td>\n",
              "      <td>362854</td>\n",
              "      <td>22495</td>\n",
              "      <td>Chassis Cab Truck</td>\n",
              "      <td>Black Clearcoat</td>\n",
              "      <td>Diesel Gray/Black</td>\n",
              "      <td>6.7L V-6 Diesel Turbocharged</td>\n",
              "      <td>4WD</td>\n",
              "      <td>Diesel</td>\n",
              "      <td>Automatic</td>\n",
              "      <td>0</td>\n",
              "      <td>Clean</td>\n",
              "      <td>1</td>\n",
              "      <td>Personal Use</td>\n",
              "    </tr>\n",
              "    <tr>\n",
              "      <th>3629</th>\n",
              "      <td>2018</td>\n",
              "      <td>Ram</td>\n",
              "      <td>3500</td>\n",
              "      <td>Tradesman Crew Cab 8' Box 4WD</td>\n",
              "      <td>Beaumont</td>\n",
              "      <td>TX</td>\n",
              "      <td>361367</td>\n",
              "      <td>33998</td>\n",
              "      <td>Pickup Truck</td>\n",
              "      <td>Bright White Clearcoat</td>\n",
              "      <td>Diesel Gray/Black</td>\n",
              "      <td>6.7L V-6 Diesel Turbocharged</td>\n",
              "      <td>4WD</td>\n",
              "      <td>Diesel</td>\n",
              "      <td>Automatic</td>\n",
              "      <td>0</td>\n",
              "      <td>Clean</td>\n",
              "      <td>1</td>\n",
              "      <td>Personal Use</td>\n",
              "    </tr>\n",
              "  </tbody>\n",
              "</table>\n",
              "</div>"
            ],
            "text/plain": [
              "      year  make             model  ...  title owners      use_type\n",
              "46    2014  Ford             F-150  ...  Clean      2  Personal Use\n",
              "9453  2014   Ram  3500 Chassis Cab  ...  Clean      1  Personal Use\n",
              "3629  2018   Ram              3500  ...  Clean      1  Personal Use\n",
              "\n",
              "[3 rows x 19 columns]"
            ]
          },
          "metadata": {}
        }
      ]
    },
    {
      "cell_type": "markdown",
      "source": [
        "By sorting the mileage data in both the ascending and descending order and looking for the minimum and maximum values, it does not look like there is any discrepancy in the data. A new car would have low miles and the lowest value which is 9 miles is nominal. In the same fashion the maximum value of 380309 miles for an old car is also very reasonable."
      ],
      "metadata": {
        "id": "5tyVz8xAvXee"
      }
    },
    {
      "cell_type": "code",
      "source": [
        "display(df.sort_values(by='price',ascending=False).head(5))"
      ],
      "metadata": {
        "colab": {
          "base_uri": "https://localhost:8080/",
          "height": 343
        },
        "id": "vCaVP0r7wirT",
        "outputId": "ba345e98-bdf2-4a0e-d534-0bdd19560395"
      },
      "execution_count": 93,
      "outputs": [
        {
          "output_type": "display_data",
          "data": {
            "text/html": [
              "<div>\n",
              "<style scoped>\n",
              "    .dataframe tbody tr th:only-of-type {\n",
              "        vertical-align: middle;\n",
              "    }\n",
              "\n",
              "    .dataframe tbody tr th {\n",
              "        vertical-align: top;\n",
              "    }\n",
              "\n",
              "    .dataframe thead th {\n",
              "        text-align: right;\n",
              "    }\n",
              "</style>\n",
              "<table border=\"1\" class=\"dataframe\">\n",
              "  <thead>\n",
              "    <tr style=\"text-align: right;\">\n",
              "      <th></th>\n",
              "      <th>year</th>\n",
              "      <th>make</th>\n",
              "      <th>model</th>\n",
              "      <th>sub_model</th>\n",
              "      <th>city</th>\n",
              "      <th>state</th>\n",
              "      <th>mileage</th>\n",
              "      <th>price</th>\n",
              "      <th>style</th>\n",
              "      <th>exterior_color</th>\n",
              "      <th>interior_color</th>\n",
              "      <th>engine</th>\n",
              "      <th>drive_type</th>\n",
              "      <th>fuel_type</th>\n",
              "      <th>transmission</th>\n",
              "      <th>accidents</th>\n",
              "      <th>title</th>\n",
              "      <th>owners</th>\n",
              "      <th>use_type</th>\n",
              "    </tr>\n",
              "  </thead>\n",
              "  <tbody>\n",
              "    <tr>\n",
              "      <th>6919</th>\n",
              "      <td>2018</td>\n",
              "      <td>Toyota</td>\n",
              "      <td>Camry</td>\n",
              "      <td>XSE V6 Automatic</td>\n",
              "      <td>Lubbock</td>\n",
              "      <td>TX</td>\n",
              "      <td>49688</td>\n",
              "      <td>No Price Available</td>\n",
              "      <td>Sedan</td>\n",
              "      <td>Wind Chill Pearl</td>\n",
              "      <td>Cockpit Red</td>\n",
              "      <td>3.5L V-6 Gas</td>\n",
              "      <td>FWD</td>\n",
              "      <td>Gas</td>\n",
              "      <td>Automatic</td>\n",
              "      <td>0</td>\n",
              "      <td>Clean</td>\n",
              "      <td>1</td>\n",
              "      <td>Personal Use</td>\n",
              "    </tr>\n",
              "    <tr>\n",
              "      <th>9881</th>\n",
              "      <td>2018</td>\n",
              "      <td>Buick</td>\n",
              "      <td>Encore</td>\n",
              "      <td>Preferred II FWD</td>\n",
              "      <td>Gettysburg</td>\n",
              "      <td>PA</td>\n",
              "      <td>7343</td>\n",
              "      <td>No Price Available</td>\n",
              "      <td>SUV</td>\n",
              "      <td>Summit White</td>\n",
              "      <td>Shale</td>\n",
              "      <td>1.4L Inline-4 Gas Turbocharged</td>\n",
              "      <td>FWD</td>\n",
              "      <td>Gas</td>\n",
              "      <td>Automatic</td>\n",
              "      <td>0</td>\n",
              "      <td>Clean</td>\n",
              "      <td>1</td>\n",
              "      <td>Personal Use</td>\n",
              "    </tr>\n",
              "    <tr>\n",
              "      <th>3628</th>\n",
              "      <td>2020</td>\n",
              "      <td>Toyota</td>\n",
              "      <td>Corolla</td>\n",
              "      <td>LE CVT</td>\n",
              "      <td>Orlando</td>\n",
              "      <td>FL</td>\n",
              "      <td>51127</td>\n",
              "      <td>No Price Available</td>\n",
              "      <td>Sedan</td>\n",
              "      <td>Celestite Gray Metallic</td>\n",
              "      <td>Light Gray</td>\n",
              "      <td>1.8L Inline-4 Gas</td>\n",
              "      <td>FWD</td>\n",
              "      <td>Gas</td>\n",
              "      <td>Automatic</td>\n",
              "      <td>1</td>\n",
              "      <td>Clean</td>\n",
              "      <td>1</td>\n",
              "      <td>Personal Use</td>\n",
              "    </tr>\n",
              "    <tr>\n",
              "      <th>372</th>\n",
              "      <td>2017</td>\n",
              "      <td>Hyundai</td>\n",
              "      <td>Elantra</td>\n",
              "      <td>SE 2.0L Sedan Automatic (alt)</td>\n",
              "      <td>Houston</td>\n",
              "      <td>TX</td>\n",
              "      <td>63109</td>\n",
              "      <td>9999</td>\n",
              "      <td>Sedan</td>\n",
              "      <td>Quartz White Pearl</td>\n",
              "      <td>Gray</td>\n",
              "      <td>2.0L Inline-4 Gas</td>\n",
              "      <td>FWD</td>\n",
              "      <td>Gas</td>\n",
              "      <td>Automatic</td>\n",
              "      <td>3</td>\n",
              "      <td>Clean</td>\n",
              "      <td>3</td>\n",
              "      <td>Mixed Use</td>\n",
              "    </tr>\n",
              "    <tr>\n",
              "      <th>8058</th>\n",
              "      <td>2015</td>\n",
              "      <td>Ford</td>\n",
              "      <td>Fusion</td>\n",
              "      <td>SE FWD</td>\n",
              "      <td>Modesto</td>\n",
              "      <td>CA</td>\n",
              "      <td>156785</td>\n",
              "      <td>9999</td>\n",
              "      <td>Sedan</td>\n",
              "      <td>Oxford White</td>\n",
              "      <td>No Color</td>\n",
              "      <td>2.5L Inline-4 Gas</td>\n",
              "      <td>FWD</td>\n",
              "      <td>Gas</td>\n",
              "      <td>Automatic</td>\n",
              "      <td>0</td>\n",
              "      <td>Clean</td>\n",
              "      <td>2</td>\n",
              "      <td>Fleet Use</td>\n",
              "    </tr>\n",
              "  </tbody>\n",
              "</table>\n",
              "</div>"
            ],
            "text/plain": [
              "      year     make    model  ...  title owners      use_type\n",
              "6919  2018   Toyota    Camry  ...  Clean      1  Personal Use\n",
              "9881  2018    Buick   Encore  ...  Clean      1  Personal Use\n",
              "3628  2020   Toyota  Corolla  ...  Clean      1  Personal Use\n",
              "372   2017  Hyundai  Elantra  ...  Clean      3     Mixed Use\n",
              "8058  2015     Ford   Fusion  ...  Clean      2     Fleet Use\n",
              "\n",
              "[5 rows x 19 columns]"
            ]
          },
          "metadata": {}
        }
      ]
    },
    {
      "cell_type": "markdown",
      "source": [
        "When sorting by price we find that there are some records which have the pricing information unavailable. Hence remove those records."
      ],
      "metadata": {
        "id": "L5uTIP9C4-8_"
      }
    },
    {
      "cell_type": "code",
      "source": [
        "df = df[df['price'] != 'No Price Available']"
      ],
      "metadata": {
        "id": "YHp9U8OI0PwF"
      },
      "execution_count": 96,
      "outputs": []
    },
    {
      "cell_type": "markdown",
      "source": [
        "Convert the price to numeric and sort again"
      ],
      "metadata": {
        "id": "i-yeRHDJ5InA"
      }
    },
    {
      "cell_type": "code",
      "source": [
        "df['price'] = df['price'].astype(int)"
      ],
      "metadata": {
        "id": "lPjDbuSu1kRU"
      },
      "execution_count": 98,
      "outputs": []
    },
    {
      "cell_type": "code",
      "source": [
        "display(df.sort_values(by='price',ascending=False).head(5))\n",
        "display(df.sort_values(by='price',ascending=True).head(5))"
      ],
      "metadata": {
        "colab": {
          "base_uri": "https://localhost:8080/",
          "height": 666
        },
        "id": "whrahxFD13TB",
        "outputId": "61631903-98af-47bd-b851-b19198401da4"
      },
      "execution_count": 99,
      "outputs": [
        {
          "output_type": "display_data",
          "data": {
            "text/html": [
              "<div>\n",
              "<style scoped>\n",
              "    .dataframe tbody tr th:only-of-type {\n",
              "        vertical-align: middle;\n",
              "    }\n",
              "\n",
              "    .dataframe tbody tr th {\n",
              "        vertical-align: top;\n",
              "    }\n",
              "\n",
              "    .dataframe thead th {\n",
              "        text-align: right;\n",
              "    }\n",
              "</style>\n",
              "<table border=\"1\" class=\"dataframe\">\n",
              "  <thead>\n",
              "    <tr style=\"text-align: right;\">\n",
              "      <th></th>\n",
              "      <th>year</th>\n",
              "      <th>make</th>\n",
              "      <th>model</th>\n",
              "      <th>sub_model</th>\n",
              "      <th>city</th>\n",
              "      <th>state</th>\n",
              "      <th>mileage</th>\n",
              "      <th>price</th>\n",
              "      <th>style</th>\n",
              "      <th>exterior_color</th>\n",
              "      <th>interior_color</th>\n",
              "      <th>engine</th>\n",
              "      <th>drive_type</th>\n",
              "      <th>fuel_type</th>\n",
              "      <th>transmission</th>\n",
              "      <th>accidents</th>\n",
              "      <th>title</th>\n",
              "      <th>owners</th>\n",
              "      <th>use_type</th>\n",
              "    </tr>\n",
              "  </thead>\n",
              "  <tbody>\n",
              "    <tr>\n",
              "      <th>2139</th>\n",
              "      <td>2011</td>\n",
              "      <td>Rolls-Royce</td>\n",
              "      <td>Ghost</td>\n",
              "      <td>RWD</td>\n",
              "      <td>Houston</td>\n",
              "      <td>TX</td>\n",
              "      <td>44818</td>\n",
              "      <td>114995</td>\n",
              "      <td>Sedan</td>\n",
              "      <td>English White</td>\n",
              "      <td>Tan</td>\n",
              "      <td>6.6L V-12 Gas Turbocharged</td>\n",
              "      <td>RWD</td>\n",
              "      <td>Gas</td>\n",
              "      <td>Automatic</td>\n",
              "      <td>0</td>\n",
              "      <td>Clean</td>\n",
              "      <td>4</td>\n",
              "      <td>Personal Use</td>\n",
              "    </tr>\n",
              "    <tr>\n",
              "      <th>7191</th>\n",
              "      <td>2017</td>\n",
              "      <td>Land</td>\n",
              "      <td>Rover Range Rover</td>\n",
              "      <td>V8 Supercharged SV Autobiography LWB</td>\n",
              "      <td>Newport Beach</td>\n",
              "      <td>CA</td>\n",
              "      <td>20087</td>\n",
              "      <td>107400</td>\n",
              "      <td>SUV</td>\n",
              "      <td>Scotia Grey</td>\n",
              "      <td>Black</td>\n",
              "      <td>5.0L V-8 Gas Supercharged</td>\n",
              "      <td>4WD</td>\n",
              "      <td>Gas</td>\n",
              "      <td>Automatic</td>\n",
              "      <td>0</td>\n",
              "      <td>Clean</td>\n",
              "      <td>1</td>\n",
              "      <td>Personal Use</td>\n",
              "    </tr>\n",
              "    <tr>\n",
              "      <th>5906</th>\n",
              "      <td>2012</td>\n",
              "      <td>Porsche</td>\n",
              "      <td>911</td>\n",
              "      <td>Turbo S Cabriolet</td>\n",
              "      <td>Lubbock</td>\n",
              "      <td>TX</td>\n",
              "      <td>45182</td>\n",
              "      <td>106969</td>\n",
              "      <td>Convertible</td>\n",
              "      <td>Black</td>\n",
              "      <td>Black</td>\n",
              "      <td>3.8L Flat-6 Gas Turbocharged</td>\n",
              "      <td>AWD</td>\n",
              "      <td>Gas</td>\n",
              "      <td>Automatic</td>\n",
              "      <td>0</td>\n",
              "      <td>Clean</td>\n",
              "      <td>3</td>\n",
              "      <td>Personal Use</td>\n",
              "    </tr>\n",
              "    <tr>\n",
              "      <th>3413</th>\n",
              "      <td>2012</td>\n",
              "      <td>Aston</td>\n",
              "      <td>Martin Virage</td>\n",
              "      <td>Coupe</td>\n",
              "      <td>Boerne</td>\n",
              "      <td>TX</td>\n",
              "      <td>8287</td>\n",
              "      <td>99888</td>\n",
              "      <td>Coupe</td>\n",
              "      <td>Morning Frost White</td>\n",
              "      <td>Unknown</td>\n",
              "      <td>5.9L V-12 Gas</td>\n",
              "      <td>RWD</td>\n",
              "      <td>Gas</td>\n",
              "      <td>Automatic</td>\n",
              "      <td>0</td>\n",
              "      <td>Clean</td>\n",
              "      <td>4</td>\n",
              "      <td>Personal Use</td>\n",
              "    </tr>\n",
              "    <tr>\n",
              "      <th>3108</th>\n",
              "      <td>2022</td>\n",
              "      <td>Mercedes-Benz</td>\n",
              "      <td>GLS</td>\n",
              "      <td>GLS 450 4MATIC</td>\n",
              "      <td>Newport Beach</td>\n",
              "      <td>CA</td>\n",
              "      <td>148</td>\n",
              "      <td>92893</td>\n",
              "      <td>SUV</td>\n",
              "      <td>Black</td>\n",
              "      <td>Black</td>\n",
              "      <td>3.0L V-6 Hybrid Turbocharged</td>\n",
              "      <td>AWD</td>\n",
              "      <td>Hybrid</td>\n",
              "      <td>Automatic</td>\n",
              "      <td>0</td>\n",
              "      <td>Clean</td>\n",
              "      <td>0</td>\n",
              "      <td>Personal Use</td>\n",
              "    </tr>\n",
              "  </tbody>\n",
              "</table>\n",
              "</div>"
            ],
            "text/plain": [
              "      year           make              model  ...  title owners      use_type\n",
              "2139  2011    Rolls-Royce              Ghost  ...  Clean      4  Personal Use\n",
              "7191  2017           Land  Rover Range Rover  ...  Clean      1  Personal Use\n",
              "5906  2012        Porsche                911  ...  Clean      3  Personal Use\n",
              "3413  2012          Aston      Martin Virage  ...  Clean      4  Personal Use\n",
              "3108  2022  Mercedes-Benz                GLS  ...  Clean      0  Personal Use\n",
              "\n",
              "[5 rows x 19 columns]"
            ]
          },
          "metadata": {}
        },
        {
          "output_type": "display_data",
          "data": {
            "text/html": [
              "<div>\n",
              "<style scoped>\n",
              "    .dataframe tbody tr th:only-of-type {\n",
              "        vertical-align: middle;\n",
              "    }\n",
              "\n",
              "    .dataframe tbody tr th {\n",
              "        vertical-align: top;\n",
              "    }\n",
              "\n",
              "    .dataframe thead th {\n",
              "        text-align: right;\n",
              "    }\n",
              "</style>\n",
              "<table border=\"1\" class=\"dataframe\">\n",
              "  <thead>\n",
              "    <tr style=\"text-align: right;\">\n",
              "      <th></th>\n",
              "      <th>year</th>\n",
              "      <th>make</th>\n",
              "      <th>model</th>\n",
              "      <th>sub_model</th>\n",
              "      <th>city</th>\n",
              "      <th>state</th>\n",
              "      <th>mileage</th>\n",
              "      <th>price</th>\n",
              "      <th>style</th>\n",
              "      <th>exterior_color</th>\n",
              "      <th>interior_color</th>\n",
              "      <th>engine</th>\n",
              "      <th>drive_type</th>\n",
              "      <th>fuel_type</th>\n",
              "      <th>transmission</th>\n",
              "      <th>accidents</th>\n",
              "      <th>title</th>\n",
              "      <th>owners</th>\n",
              "      <th>use_type</th>\n",
              "    </tr>\n",
              "  </thead>\n",
              "  <tbody>\n",
              "    <tr>\n",
              "      <th>1179</th>\n",
              "      <td>1998</td>\n",
              "      <td>Pontiac</td>\n",
              "      <td>Bonneville</td>\n",
              "      <td>4dr Sedan SE</td>\n",
              "      <td>Tappahannock</td>\n",
              "      <td>VA</td>\n",
              "      <td>279213</td>\n",
              "      <td>2000</td>\n",
              "      <td>Sedan</td>\n",
              "      <td>Arctic White</td>\n",
              "      <td>Dark Pewter</td>\n",
              "      <td>3.8L V-6 Gas</td>\n",
              "      <td>FWD</td>\n",
              "      <td>Gas</td>\n",
              "      <td>Automatic</td>\n",
              "      <td>0</td>\n",
              "      <td>Clean</td>\n",
              "      <td>4</td>\n",
              "      <td>Rental Use</td>\n",
              "    </tr>\n",
              "    <tr>\n",
              "      <th>8308</th>\n",
              "      <td>2001</td>\n",
              "      <td>Buick</td>\n",
              "      <td>Regal</td>\n",
              "      <td>LS</td>\n",
              "      <td>Devils Lake</td>\n",
              "      <td>ND</td>\n",
              "      <td>195000</td>\n",
              "      <td>2000</td>\n",
              "      <td>Sedan</td>\n",
              "      <td>Sterling Silver Metallic</td>\n",
              "      <td>Medium Gray</td>\n",
              "      <td>3.8L V-6 Gas</td>\n",
              "      <td>FWD</td>\n",
              "      <td>Gas</td>\n",
              "      <td>Automatic</td>\n",
              "      <td>1</td>\n",
              "      <td>Clean</td>\n",
              "      <td>5</td>\n",
              "      <td>Mixed Use</td>\n",
              "    </tr>\n",
              "    <tr>\n",
              "      <th>624</th>\n",
              "      <td>2001</td>\n",
              "      <td>Hyundai</td>\n",
              "      <td>Accent</td>\n",
              "      <td>GS Hatchback Manual</td>\n",
              "      <td>Sandy</td>\n",
              "      <td>UT</td>\n",
              "      <td>148360</td>\n",
              "      <td>2200</td>\n",
              "      <td>Hatchback</td>\n",
              "      <td>Ebony Black</td>\n",
              "      <td>Unknown</td>\n",
              "      <td>1.6L Inline-4 Gas</td>\n",
              "      <td>FWD</td>\n",
              "      <td>Gas</td>\n",
              "      <td>Manual</td>\n",
              "      <td>0</td>\n",
              "      <td>Clean</td>\n",
              "      <td>5</td>\n",
              "      <td>Personal Use</td>\n",
              "    </tr>\n",
              "    <tr>\n",
              "      <th>4709</th>\n",
              "      <td>2002</td>\n",
              "      <td>Chevrolet</td>\n",
              "      <td>Suburban</td>\n",
              "      <td>LS 1500 4WD</td>\n",
              "      <td>Peabody</td>\n",
              "      <td>MA</td>\n",
              "      <td>289452</td>\n",
              "      <td>2495</td>\n",
              "      <td>SUV</td>\n",
              "      <td>Red</td>\n",
              "      <td>Unknown</td>\n",
              "      <td>5.3L V-8 Gas</td>\n",
              "      <td>4WD</td>\n",
              "      <td>Gas</td>\n",
              "      <td>Automatic</td>\n",
              "      <td>0</td>\n",
              "      <td>Clean</td>\n",
              "      <td>3</td>\n",
              "      <td>Personal Use</td>\n",
              "    </tr>\n",
              "    <tr>\n",
              "      <th>7580</th>\n",
              "      <td>1998</td>\n",
              "      <td>Oldsmobile</td>\n",
              "      <td>Cutlass</td>\n",
              "      <td>4dr Sedan GLS</td>\n",
              "      <td>Lebanon</td>\n",
              "      <td>IN</td>\n",
              "      <td>94585</td>\n",
              "      <td>2495</td>\n",
              "      <td>Sedan</td>\n",
              "      <td>Tan</td>\n",
              "      <td>Tan</td>\n",
              "      <td>3.1L V-6 Gas</td>\n",
              "      <td>FWD</td>\n",
              "      <td>Gas</td>\n",
              "      <td>Automatic</td>\n",
              "      <td>1</td>\n",
              "      <td>Clean</td>\n",
              "      <td>4</td>\n",
              "      <td>Personal Use</td>\n",
              "    </tr>\n",
              "  </tbody>\n",
              "</table>\n",
              "</div>"
            ],
            "text/plain": [
              "      year        make       model  ...  title owners      use_type\n",
              "1179  1998     Pontiac  Bonneville  ...  Clean      4    Rental Use\n",
              "8308  2001       Buick       Regal  ...  Clean      5     Mixed Use\n",
              "624   2001     Hyundai      Accent  ...  Clean      5  Personal Use\n",
              "4709  2002   Chevrolet    Suburban  ...  Clean      3  Personal Use\n",
              "7580  1998  Oldsmobile     Cutlass  ...  Clean      4  Personal Use\n",
              "\n",
              "[5 rows x 19 columns]"
            ]
          },
          "metadata": {}
        }
      ]
    },
    {
      "cell_type": "markdown",
      "source": [
        "The lowest price of 2000 and the highest price of 114995 is well within the acceptable range for car prices."
      ],
      "metadata": {
        "id": "0loRDunE5RTV"
      }
    },
    {
      "cell_type": "code",
      "source": [
        "df.shape"
      ],
      "metadata": {
        "colab": {
          "base_uri": "https://localhost:8080/"
        },
        "id": "1JoPBM1u5n9Z",
        "outputId": "a2ca083b-82dd-4d17-a88f-390aa7fb1c38"
      },
      "execution_count": 100,
      "outputs": [
        {
          "output_type": "execute_result",
          "data": {
            "text/plain": [
              "(9904, 19)"
            ]
          },
          "metadata": {},
          "execution_count": 100
        }
      ]
    },
    {
      "cell_type": "code",
      "source": [
        "df.to_csv('listing-cleaned.csv', encoding = 'utf-8')"
      ],
      "metadata": {
        "id": "myUsfNrq6Axh"
      },
      "execution_count": 101,
      "outputs": []
    }
  ]
}