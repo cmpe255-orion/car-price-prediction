{
  "nbformat": 4,
  "nbformat_minor": 0,
  "metadata": {
    "colab": {
      "name": "Final_Project.ipynb",
      "provenance": [],
      "collapsed_sections": []
    },
    "kernelspec": {
      "name": "python3",
      "display_name": "Python 3"
    },
    "language_info": {
      "name": "python"
    }
  },
  "cells": [
    {
      "cell_type": "code",
      "execution_count": null,
      "metadata": {
        "colab": {
          "base_uri": "https://localhost:8080/"
        },
        "id": "l6aV012itsPG",
        "outputId": "0e63b602-458e-41bc-982d-18cf17728904"
      },
      "outputs": [
        {
          "output_type": "stream",
          "name": "stdout",
          "text": [
            "Requirement already satisfied: beautifulsoup4 in /usr/local/lib/python3.7/dist-packages (4.6.3)\n",
            "Requirement already satisfied: requests_cache in /usr/local/lib/python3.7/dist-packages (0.8.1)\n",
            "Requirement already satisfied: attrs<22.0,>=21.2 in /usr/local/lib/python3.7/dist-packages (from requests_cache) (21.2.0)\n",
            "Requirement already satisfied: cattrs<2.0,>=1.8 in /usr/local/lib/python3.7/dist-packages (from requests_cache) (1.9.0)\n",
            "Requirement already satisfied: urllib3<2.0.0,>=1.25.5 in /usr/local/lib/python3.7/dist-packages (from requests_cache) (1.25.11)\n",
            "Requirement already satisfied: appdirs<2.0.0,>=1.4.4 in /usr/local/lib/python3.7/dist-packages (from requests_cache) (1.4.4)\n",
            "Requirement already satisfied: url-normalize<2.0,>=1.4 in /usr/local/lib/python3.7/dist-packages (from requests_cache) (1.4.3)\n",
            "Requirement already satisfied: requests<3.0,>=2.22 in /usr/local/lib/python3.7/dist-packages (from requests_cache) (2.23.0)\n",
            "Requirement already satisfied: typing_extensions in /usr/local/lib/python3.7/dist-packages (from cattrs<2.0,>=1.8->requests_cache) (3.10.0.2)\n",
            "Requirement already satisfied: certifi>=2017.4.17 in /usr/local/lib/python3.7/dist-packages (from requests<3.0,>=2.22->requests_cache) (2021.10.8)\n",
            "Requirement already satisfied: idna<3,>=2.5 in /usr/local/lib/python3.7/dist-packages (from requests<3.0,>=2.22->requests_cache) (2.10)\n",
            "Requirement already satisfied: chardet<4,>=3.0.2 in /usr/local/lib/python3.7/dist-packages (from requests<3.0,>=2.22->requests_cache) (3.0.4)\n",
            "Requirement already satisfied: six in /usr/local/lib/python3.7/dist-packages (from url-normalize<2.0,>=1.4->requests_cache) (1.15.0)\n"
          ]
        }
      ],
      "source": [
        "!pip install beautifulsoup4\n",
        "!pip install requests_cache"
      ]
    },
    {
      "cell_type": "code",
      "source": [
        "import requests\n",
        "import numpy as np\n",
        "from bs4 import BeautifulSoup\n",
        "import pandas as pd\n",
        "import requests_cache\n",
        "import lxml.html as lxl\n",
        "import re"
      ],
      "metadata": {
        "id": "eq8mU59LuX4F"
      },
      "execution_count": null,
      "outputs": []
    },
    {
      "cell_type": "code",
      "source": [
        "from google.colab import drive\n",
        "drive.mount('/content/gdrive')"
      ],
      "metadata": {
        "colab": {
          "base_uri": "https://localhost:8080/"
        },
        "id": "byF_yC4E2qCp",
        "outputId": "4798849e-46f2-420f-ee59-d6204f544251"
      },
      "execution_count": null,
      "outputs": [
        {
          "output_type": "stream",
          "name": "stdout",
          "text": [
            "Mounted at /content/gdrive\n"
          ]
        }
      ]
    },
    {
      "cell_type": "code",
      "source": [
        "df = pd.read_csv('/content/gdrive/My Drive/Colab Notebooks/Dataset/true_car_listings.csv')\n",
        "df.head(10)"
      ],
      "metadata": {
        "colab": {
          "base_uri": "https://localhost:8080/",
          "height": 363
        },
        "id": "MZs_ARUU3_Xi",
        "outputId": "355fc567-aaa8-4ae0-bff4-03b98c130753"
      },
      "execution_count": null,
      "outputs": [
        {
          "output_type": "execute_result",
          "data": {
            "text/html": [
              "<div>\n",
              "<style scoped>\n",
              "    .dataframe tbody tr th:only-of-type {\n",
              "        vertical-align: middle;\n",
              "    }\n",
              "\n",
              "    .dataframe tbody tr th {\n",
              "        vertical-align: top;\n",
              "    }\n",
              "\n",
              "    .dataframe thead th {\n",
              "        text-align: right;\n",
              "    }\n",
              "</style>\n",
              "<table border=\"1\" class=\"dataframe\">\n",
              "  <thead>\n",
              "    <tr style=\"text-align: right;\">\n",
              "      <th></th>\n",
              "      <th>Price</th>\n",
              "      <th>Year</th>\n",
              "      <th>Mileage</th>\n",
              "      <th>City</th>\n",
              "      <th>State</th>\n",
              "      <th>Vin</th>\n",
              "      <th>Make</th>\n",
              "      <th>Model</th>\n",
              "    </tr>\n",
              "  </thead>\n",
              "  <tbody>\n",
              "    <tr>\n",
              "      <th>0</th>\n",
              "      <td>8995</td>\n",
              "      <td>2014</td>\n",
              "      <td>35725</td>\n",
              "      <td>El Paso</td>\n",
              "      <td>TX</td>\n",
              "      <td>19VDE2E53EE000083</td>\n",
              "      <td>Acura</td>\n",
              "      <td>ILX6-Speed</td>\n",
              "    </tr>\n",
              "    <tr>\n",
              "      <th>1</th>\n",
              "      <td>10888</td>\n",
              "      <td>2013</td>\n",
              "      <td>19606</td>\n",
              "      <td>Long Island City</td>\n",
              "      <td>NY</td>\n",
              "      <td>19VDE1F52DE012636</td>\n",
              "      <td>Acura</td>\n",
              "      <td>ILX5-Speed</td>\n",
              "    </tr>\n",
              "    <tr>\n",
              "      <th>2</th>\n",
              "      <td>8995</td>\n",
              "      <td>2013</td>\n",
              "      <td>48851</td>\n",
              "      <td>El Paso</td>\n",
              "      <td>TX</td>\n",
              "      <td>19VDE2E52DE000025</td>\n",
              "      <td>Acura</td>\n",
              "      <td>ILX6-Speed</td>\n",
              "    </tr>\n",
              "    <tr>\n",
              "      <th>3</th>\n",
              "      <td>10999</td>\n",
              "      <td>2014</td>\n",
              "      <td>39922</td>\n",
              "      <td>Windsor</td>\n",
              "      <td>CO</td>\n",
              "      <td>19VDE1F71EE003817</td>\n",
              "      <td>Acura</td>\n",
              "      <td>ILX5-Speed</td>\n",
              "    </tr>\n",
              "    <tr>\n",
              "      <th>4</th>\n",
              "      <td>14799</td>\n",
              "      <td>2016</td>\n",
              "      <td>22142</td>\n",
              "      <td>Lindon</td>\n",
              "      <td>UT</td>\n",
              "      <td>19UDE2F32GA001284</td>\n",
              "      <td>Acura</td>\n",
              "      <td>ILXAutomatic</td>\n",
              "    </tr>\n",
              "    <tr>\n",
              "      <th>5</th>\n",
              "      <td>7989</td>\n",
              "      <td>2012</td>\n",
              "      <td>105246</td>\n",
              "      <td>Miami</td>\n",
              "      <td>FL</td>\n",
              "      <td>JH4CU2F83CC019895</td>\n",
              "      <td>Acura</td>\n",
              "      <td>TSXAutomatic</td>\n",
              "    </tr>\n",
              "    <tr>\n",
              "      <th>6</th>\n",
              "      <td>14490</td>\n",
              "      <td>2014</td>\n",
              "      <td>34032</td>\n",
              "      <td>Greatneck</td>\n",
              "      <td>NY</td>\n",
              "      <td>JH4CU2F84EC002686</td>\n",
              "      <td>Acura</td>\n",
              "      <td>TSXSpecial</td>\n",
              "    </tr>\n",
              "    <tr>\n",
              "      <th>7</th>\n",
              "      <td>13995</td>\n",
              "      <td>2013</td>\n",
              "      <td>32384</td>\n",
              "      <td>West Jordan</td>\n",
              "      <td>UT</td>\n",
              "      <td>JH4CU2F64DC006203</td>\n",
              "      <td>Acura</td>\n",
              "      <td>TSX5-Speed</td>\n",
              "    </tr>\n",
              "    <tr>\n",
              "      <th>8</th>\n",
              "      <td>10495</td>\n",
              "      <td>2013</td>\n",
              "      <td>57596</td>\n",
              "      <td>Waterbury</td>\n",
              "      <td>CT</td>\n",
              "      <td>19VDE2E50DE000234</td>\n",
              "      <td>Acura</td>\n",
              "      <td>ILX6-Speed</td>\n",
              "    </tr>\n",
              "    <tr>\n",
              "      <th>9</th>\n",
              "      <td>9995</td>\n",
              "      <td>2013</td>\n",
              "      <td>63887</td>\n",
              "      <td>El Paso</td>\n",
              "      <td>TX</td>\n",
              "      <td>19VDE1F50DE010450</td>\n",
              "      <td>Acura</td>\n",
              "      <td>ILX5-Speed</td>\n",
              "    </tr>\n",
              "  </tbody>\n",
              "</table>\n",
              "</div>"
            ],
            "text/plain": [
              "   Price  Year  Mileage  ...                Vin   Make         Model\n",
              "0   8995  2014    35725  ...  19VDE2E53EE000083  Acura    ILX6-Speed\n",
              "1  10888  2013    19606  ...  19VDE1F52DE012636  Acura    ILX5-Speed\n",
              "2   8995  2013    48851  ...  19VDE2E52DE000025  Acura    ILX6-Speed\n",
              "3  10999  2014    39922  ...  19VDE1F71EE003817  Acura    ILX5-Speed\n",
              "4  14799  2016    22142  ...  19UDE2F32GA001284  Acura  ILXAutomatic\n",
              "5   7989  2012   105246  ...  JH4CU2F83CC019895  Acura  TSXAutomatic\n",
              "6  14490  2014    34032  ...  JH4CU2F84EC002686  Acura    TSXSpecial\n",
              "7  13995  2013    32384  ...  JH4CU2F64DC006203  Acura    TSX5-Speed\n",
              "8  10495  2013    57596  ...  19VDE2E50DE000234  Acura    ILX6-Speed\n",
              "9   9995  2013    63887  ...  19VDE1F50DE010450  Acura    ILX5-Speed\n",
              "\n",
              "[10 rows x 8 columns]"
            ]
          },
          "metadata": {},
          "execution_count": 20
        }
      ]
    },
    {
      "cell_type": "code",
      "source": [
        "df.shape"
      ],
      "metadata": {
        "colab": {
          "base_uri": "https://localhost:8080/"
        },
        "id": "VK_1RsbQAcdr",
        "outputId": "94f487e6-0aaa-4e66-fa3c-49ed67dc0cb0"
      },
      "execution_count": null,
      "outputs": [
        {
          "output_type": "execute_result",
          "data": {
            "text/plain": [
              "(852122, 8)"
            ]
          },
          "metadata": {},
          "execution_count": 22
        }
      ]
    },
    {
      "cell_type": "code",
      "source": [
        "df.isnull().sum()"
      ],
      "metadata": {
        "colab": {
          "base_uri": "https://localhost:8080/"
        },
        "id": "strp_HM-4XL2",
        "outputId": "ef6789e8-cf92-4239-c4e9-9cdd071dcdc2"
      },
      "execution_count": null,
      "outputs": [
        {
          "output_type": "execute_result",
          "data": {
            "text/plain": [
              "Price      0\n",
              "Year       0\n",
              "Mileage    0\n",
              "City       0\n",
              "State      0\n",
              "Vin        0\n",
              "Make       0\n",
              "Model      0\n",
              "dtype: int64"
            ]
          },
          "metadata": {},
          "execution_count": 21
        }
      ]
    },
    {
      "cell_type": "code",
      "source": [
        ""
      ],
      "metadata": {
        "id": "BlKXzyl6As0J"
      },
      "execution_count": null,
      "outputs": []
    }
  ]
}