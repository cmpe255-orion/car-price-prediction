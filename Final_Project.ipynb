{
  "nbformat": 4,
  "nbformat_minor": 0,
  "metadata": {
    "colab": {
      "name": "Final_Project.ipynb",
      "provenance": [],
      "collapsed_sections": []
    },
    "kernelspec": {
      "name": "python3",
      "display_name": "Python 3"
    },
    "language_info": {
      "name": "python"
    }
  },
  "cells": [
    {
      "cell_type": "code",
      "execution_count": 1,
      "metadata": {
        "colab": {
          "base_uri": "https://localhost:8080/"
        },
        "id": "l6aV012itsPG",
        "outputId": "3e5e538a-b372-4e2c-bf45-69a9e5877ae2"
      },
      "outputs": [
        {
          "output_type": "stream",
          "name": "stdout",
          "text": [
            "Requirement already satisfied: beautifulsoup4 in /usr/local/lib/python3.7/dist-packages (4.6.3)\n",
            "Requirement already satisfied: requests_cache in /usr/local/lib/python3.7/dist-packages (0.8.1)\n",
            "Requirement already satisfied: attrs<22.0,>=21.2 in /usr/local/lib/python3.7/dist-packages (from requests_cache) (21.2.0)\n",
            "Requirement already satisfied: cattrs<2.0,>=1.8 in /usr/local/lib/python3.7/dist-packages (from requests_cache) (1.9.0)\n",
            "Requirement already satisfied: url-normalize<2.0,>=1.4 in /usr/local/lib/python3.7/dist-packages (from requests_cache) (1.4.3)\n",
            "Requirement already satisfied: urllib3<2.0.0,>=1.25.5 in /usr/local/lib/python3.7/dist-packages (from requests_cache) (1.25.11)\n",
            "Requirement already satisfied: requests<3.0,>=2.22 in /usr/local/lib/python3.7/dist-packages (from requests_cache) (2.23.0)\n",
            "Requirement already satisfied: appdirs<2.0.0,>=1.4.4 in /usr/local/lib/python3.7/dist-packages (from requests_cache) (1.4.4)\n",
            "Requirement already satisfied: typing_extensions in /usr/local/lib/python3.7/dist-packages (from cattrs<2.0,>=1.8->requests_cache) (3.10.0.2)\n",
            "Requirement already satisfied: certifi>=2017.4.17 in /usr/local/lib/python3.7/dist-packages (from requests<3.0,>=2.22->requests_cache) (2021.10.8)\n",
            "Requirement already satisfied: chardet<4,>=3.0.2 in /usr/local/lib/python3.7/dist-packages (from requests<3.0,>=2.22->requests_cache) (3.0.4)\n",
            "Requirement already satisfied: idna<3,>=2.5 in /usr/local/lib/python3.7/dist-packages (from requests<3.0,>=2.22->requests_cache) (2.10)\n",
            "Requirement already satisfied: six in /usr/local/lib/python3.7/dist-packages (from url-normalize<2.0,>=1.4->requests_cache) (1.15.0)\n"
          ]
        }
      ],
      "source": [
        "!pip install beautifulsoup4\n",
        "!pip install requests_cache"
      ]
    },
    {
      "cell_type": "code",
      "source": [
        "import requests\n",
        "import numpy as np\n",
        "from bs4 import BeautifulSoup\n",
        "import pandas as pd\n",
        "import requests_cache\n",
        "import lxml.html as lxl\n",
        "import re"
      ],
      "metadata": {
        "id": "eq8mU59LuX4F"
      },
      "execution_count": 2,
      "outputs": []
    },
    {
      "cell_type": "code",
      "source": [
        "import pandas as pd\n",
        "import numpy as np\n",
        "import matplotlib.pyplot as plt\n",
        "import seaborn as sns\n",
        "from matplotlib import rcParams\n",
        "import sklearn.metrics as metrics"
      ],
      "metadata": {
        "id": "ivGO2sJ19fJX"
      },
      "execution_count": 3,
      "outputs": []
    },
    {
      "cell_type": "code",
      "source": [
        "from sklearn.ensemble import RandomForestRegressor\n",
        "from sklearn.ensemble import ExtraTreesRegressor\n",
        "from sklearn.tree import DecisionTreeClassifier\n",
        "from sklearn.cluster import KMeans,AgglomerativeClustering\n",
        "from scipy.stats import zscore\n",
        "from sklearn.metrics import silhouette_samples, silhouette_score, classification_report, r2_score, accuracy_score, f1_score\n",
        "from sklearn.model_selection import train_test_split\n",
        "from sklearn.preprocessing import RobustScaler"
      ],
      "metadata": {
        "id": "-6pHVNT3Bvmx"
      },
      "execution_count": 4,
      "outputs": []
    },
    {
      "cell_type": "code",
      "source": [
        "from google.colab import drive\n",
        "drive.mount('/content/gdrive')"
      ],
      "metadata": {
        "colab": {
          "base_uri": "https://localhost:8080/"
        },
        "id": "byF_yC4E2qCp",
        "outputId": "b3df1062-b6b8-44fc-c1b4-d612631ea17e"
      },
      "execution_count": 5,
      "outputs": [
        {
          "output_type": "stream",
          "name": "stdout",
          "text": [
            "Drive already mounted at /content/gdrive; to attempt to forcibly remount, call drive.mount(\"/content/gdrive\", force_remount=True).\n"
          ]
        }
      ]
    },
    {
      "cell_type": "code",
      "source": [
        "df = pd.read_csv('/content/gdrive/My Drive/Colab Notebooks/Dataset/true_car_listings.csv').sample(frac=1).reset_index(drop=True)\n",
        "df.head(10)"
      ],
      "metadata": {
        "colab": {
          "base_uri": "https://localhost:8080/",
          "height": 363
        },
        "id": "MZs_ARUU3_Xi",
        "outputId": "2f892ae4-923e-4e8b-fb82-2490098ce0b1"
      },
      "execution_count": 6,
      "outputs": [
        {
          "output_type": "execute_result",
          "data": {
            "text/html": [
              "<div>\n",
              "<style scoped>\n",
              "    .dataframe tbody tr th:only-of-type {\n",
              "        vertical-align: middle;\n",
              "    }\n",
              "\n",
              "    .dataframe tbody tr th {\n",
              "        vertical-align: top;\n",
              "    }\n",
              "\n",
              "    .dataframe thead th {\n",
              "        text-align: right;\n",
              "    }\n",
              "</style>\n",
              "<table border=\"1\" class=\"dataframe\">\n",
              "  <thead>\n",
              "    <tr style=\"text-align: right;\">\n",
              "      <th></th>\n",
              "      <th>Price</th>\n",
              "      <th>Year</th>\n",
              "      <th>Mileage</th>\n",
              "      <th>City</th>\n",
              "      <th>State</th>\n",
              "      <th>Vin</th>\n",
              "      <th>Make</th>\n",
              "      <th>Model</th>\n",
              "    </tr>\n",
              "  </thead>\n",
              "  <tbody>\n",
              "    <tr>\n",
              "      <th>0</th>\n",
              "      <td>24482</td>\n",
              "      <td>2014</td>\n",
              "      <td>37055</td>\n",
              "      <td>Matteson</td>\n",
              "      <td>IL</td>\n",
              "      <td>1GNKRJKDXEJ165034</td>\n",
              "      <td>Chevrolet</td>\n",
              "      <td>TraverseLTZ</td>\n",
              "    </tr>\n",
              "    <tr>\n",
              "      <th>1</th>\n",
              "      <td>26189</td>\n",
              "      <td>2017</td>\n",
              "      <td>25134</td>\n",
              "      <td>Grapevine</td>\n",
              "      <td>TX</td>\n",
              "      <td>1GAZGMFGXH1193321</td>\n",
              "      <td>Chevrolet</td>\n",
              "      <td>Express</td>\n",
              "    </tr>\n",
              "    <tr>\n",
              "      <th>2</th>\n",
              "      <td>13208</td>\n",
              "      <td>2016</td>\n",
              "      <td>15682</td>\n",
              "      <td>ORLANDO</td>\n",
              "      <td>FL</td>\n",
              "      <td>JA32U2FU6GU000783</td>\n",
              "      <td>Mitsubishi</td>\n",
              "      <td>LancerES</td>\n",
              "    </tr>\n",
              "    <tr>\n",
              "      <th>3</th>\n",
              "      <td>7950</td>\n",
              "      <td>2006</td>\n",
              "      <td>96014</td>\n",
              "      <td>Midlothian</td>\n",
              "      <td>VA</td>\n",
              "      <td>1ZVFT80N065200235</td>\n",
              "      <td>Ford</td>\n",
              "      <td>Mustang2dr</td>\n",
              "    </tr>\n",
              "    <tr>\n",
              "      <th>4</th>\n",
              "      <td>17900</td>\n",
              "      <td>2014</td>\n",
              "      <td>41081</td>\n",
              "      <td>Little Rock</td>\n",
              "      <td>AR</td>\n",
              "      <td>4T1BK1FK1EU027365</td>\n",
              "      <td>Toyota</td>\n",
              "      <td>CamryXLE</td>\n",
              "    </tr>\n",
              "    <tr>\n",
              "      <th>5</th>\n",
              "      <td>14888</td>\n",
              "      <td>2011</td>\n",
              "      <td>98480</td>\n",
              "      <td>Milwaukie</td>\n",
              "      <td>OR</td>\n",
              "      <td>2T3DK4DVXBW053540</td>\n",
              "      <td>Toyota</td>\n",
              "      <td>RAV44WD</td>\n",
              "    </tr>\n",
              "    <tr>\n",
              "      <th>6</th>\n",
              "      <td>9566</td>\n",
              "      <td>2008</td>\n",
              "      <td>85645</td>\n",
              "      <td>Amherst</td>\n",
              "      <td>NY</td>\n",
              "      <td>2C3KA33G88H284344</td>\n",
              "      <td>Chrysler</td>\n",
              "      <td>3004dr</td>\n",
              "    </tr>\n",
              "    <tr>\n",
              "      <th>7</th>\n",
              "      <td>19995</td>\n",
              "      <td>2010</td>\n",
              "      <td>118042</td>\n",
              "      <td>Griffin</td>\n",
              "      <td>GA</td>\n",
              "      <td>1GYUKAEF6AR110766</td>\n",
              "      <td>Cadillac</td>\n",
              "      <td>EscaladeBase</td>\n",
              "    </tr>\n",
              "    <tr>\n",
              "      <th>8</th>\n",
              "      <td>25580</td>\n",
              "      <td>2016</td>\n",
              "      <td>31307</td>\n",
              "      <td>Killeen</td>\n",
              "      <td>TX</td>\n",
              "      <td>WBA8E9C58GK647189</td>\n",
              "      <td>BMW</td>\n",
              "      <td>3</td>\n",
              "    </tr>\n",
              "    <tr>\n",
              "      <th>9</th>\n",
              "      <td>20884</td>\n",
              "      <td>2009</td>\n",
              "      <td>101570</td>\n",
              "      <td>Helena</td>\n",
              "      <td>MT</td>\n",
              "      <td>2GCEK333791133489</td>\n",
              "      <td>Chevrolet</td>\n",
              "      <td>Silverado</td>\n",
              "    </tr>\n",
              "  </tbody>\n",
              "</table>\n",
              "</div>"
            ],
            "text/plain": [
              "   Price  Year  Mileage  ...                Vin        Make         Model\n",
              "0  24482  2014    37055  ...  1GNKRJKDXEJ165034   Chevrolet   TraverseLTZ\n",
              "1  26189  2017    25134  ...  1GAZGMFGXH1193321   Chevrolet       Express\n",
              "2  13208  2016    15682  ...  JA32U2FU6GU000783  Mitsubishi      LancerES\n",
              "3   7950  2006    96014  ...  1ZVFT80N065200235        Ford    Mustang2dr\n",
              "4  17900  2014    41081  ...  4T1BK1FK1EU027365      Toyota      CamryXLE\n",
              "5  14888  2011    98480  ...  2T3DK4DVXBW053540      Toyota       RAV44WD\n",
              "6   9566  2008    85645  ...  2C3KA33G88H284344    Chrysler        3004dr\n",
              "7  19995  2010   118042  ...  1GYUKAEF6AR110766    Cadillac  EscaladeBase\n",
              "8  25580  2016    31307  ...  WBA8E9C58GK647189         BMW             3\n",
              "9  20884  2009   101570  ...  2GCEK333791133489   Chevrolet     Silverado\n",
              "\n",
              "[10 rows x 8 columns]"
            ]
          },
          "metadata": {},
          "execution_count": 6
        }
      ]
    },
    {
      "cell_type": "code",
      "source": [
        "df = df[:5000]"
      ],
      "metadata": {
        "id": "xXNKIXjJ-d_r"
      },
      "execution_count": 7,
      "outputs": []
    },
    {
      "cell_type": "code",
      "source": [
        "df.info()"
      ],
      "metadata": {
        "colab": {
          "base_uri": "https://localhost:8080/"
        },
        "id": "XDzZfBWX7r3N",
        "outputId": "bff054ef-6a8f-4b81-c326-c712ce9ff0fc"
      },
      "execution_count": 8,
      "outputs": [
        {
          "output_type": "stream",
          "name": "stdout",
          "text": [
            "<class 'pandas.core.frame.DataFrame'>\n",
            "RangeIndex: 5000 entries, 0 to 4999\n",
            "Data columns (total 8 columns):\n",
            " #   Column   Non-Null Count  Dtype \n",
            "---  ------   --------------  ----- \n",
            " 0   Price    5000 non-null   int64 \n",
            " 1   Year     5000 non-null   int64 \n",
            " 2   Mileage  5000 non-null   int64 \n",
            " 3   City     5000 non-null   object\n",
            " 4   State    5000 non-null   object\n",
            " 5   Vin      5000 non-null   object\n",
            " 6   Make     5000 non-null   object\n",
            " 7   Model    5000 non-null   object\n",
            "dtypes: int64(3), object(5)\n",
            "memory usage: 312.6+ KB\n"
          ]
        }
      ]
    },
    {
      "cell_type": "code",
      "source": [
        "df.shape"
      ],
      "metadata": {
        "colab": {
          "base_uri": "https://localhost:8080/"
        },
        "id": "VK_1RsbQAcdr",
        "outputId": "cae6213a-ffff-415c-9f92-bf75a76b1cc9"
      },
      "execution_count": 9,
      "outputs": [
        {
          "output_type": "execute_result",
          "data": {
            "text/plain": [
              "(5000, 8)"
            ]
          },
          "metadata": {},
          "execution_count": 9
        }
      ]
    },
    {
      "cell_type": "code",
      "source": [
        "df.isnull().sum()"
      ],
      "metadata": {
        "colab": {
          "base_uri": "https://localhost:8080/"
        },
        "id": "strp_HM-4XL2",
        "outputId": "821e5c9c-dac6-4e56-f652-e1cf6065a9ba"
      },
      "execution_count": 10,
      "outputs": [
        {
          "output_type": "execute_result",
          "data": {
            "text/plain": [
              "Price      0\n",
              "Year       0\n",
              "Mileage    0\n",
              "City       0\n",
              "State      0\n",
              "Vin        0\n",
              "Make       0\n",
              "Model      0\n",
              "dtype: int64"
            ]
          },
          "metadata": {},
          "execution_count": 10
        }
      ]
    },
    {
      "cell_type": "markdown",
      "source": [
        "# **Data Preprocessing**"
      ],
      "metadata": {
        "id": "snzv_-3w8mQ8"
      }
    },
    {
      "cell_type": "code",
      "source": [
        "df[\"Current_Year\"] = 2021"
      ],
      "metadata": {
        "id": "BlKXzyl6As0J"
      },
      "execution_count": 11,
      "outputs": []
    },
    {
      "cell_type": "code",
      "source": [
        "df[\"Age\"] = df[\"Current_Year\"] - df[\"Year\"]\n",
        "df[\"Original_Price\"] = df[\"Price\"]/ ((1 - (0.45)) ** 3)\n",
        "df[\"Depreciation\"] = df[\"Original_Price\"] - df[\"Price\"]\n",
        "df[\"Percent_Loss\"] = df[\"Price\"] / df[\"Original_Price\"]\n",
        "#df[\"Good_Buy\"] = 1 if np.where(df[\"Percent_Loss\"] < 0.6) else 0"
      ],
      "metadata": {
        "id": "HfMTQ_TY8uDP"
      },
      "execution_count": 12,
      "outputs": []
    },
    {
      "cell_type": "code",
      "source": [
        "df.head(10)"
      ],
      "metadata": {
        "colab": {
          "base_uri": "https://localhost:8080/",
          "height": 363
        },
        "id": "_qRzbb-sTtYU",
        "outputId": "7db5087d-73a2-4309-f4c4-5526ed4e78c1"
      },
      "execution_count": 13,
      "outputs": [
        {
          "output_type": "execute_result",
          "data": {
            "text/html": [
              "<div>\n",
              "<style scoped>\n",
              "    .dataframe tbody tr th:only-of-type {\n",
              "        vertical-align: middle;\n",
              "    }\n",
              "\n",
              "    .dataframe tbody tr th {\n",
              "        vertical-align: top;\n",
              "    }\n",
              "\n",
              "    .dataframe thead th {\n",
              "        text-align: right;\n",
              "    }\n",
              "</style>\n",
              "<table border=\"1\" class=\"dataframe\">\n",
              "  <thead>\n",
              "    <tr style=\"text-align: right;\">\n",
              "      <th></th>\n",
              "      <th>Price</th>\n",
              "      <th>Year</th>\n",
              "      <th>Mileage</th>\n",
              "      <th>City</th>\n",
              "      <th>State</th>\n",
              "      <th>Vin</th>\n",
              "      <th>Make</th>\n",
              "      <th>Model</th>\n",
              "      <th>Current_Year</th>\n",
              "      <th>Age</th>\n",
              "      <th>Original_Price</th>\n",
              "      <th>Depreciation</th>\n",
              "      <th>Percent_Loss</th>\n",
              "    </tr>\n",
              "  </thead>\n",
              "  <tbody>\n",
              "    <tr>\n",
              "      <th>0</th>\n",
              "      <td>24482</td>\n",
              "      <td>2014</td>\n",
              "      <td>37055</td>\n",
              "      <td>Matteson</td>\n",
              "      <td>IL</td>\n",
              "      <td>1GNKRJKDXEJ165034</td>\n",
              "      <td>Chevrolet</td>\n",
              "      <td>TraverseLTZ</td>\n",
              "      <td>2021</td>\n",
              "      <td>7</td>\n",
              "      <td>147149.511645</td>\n",
              "      <td>122667.511645</td>\n",
              "      <td>0.166375</td>\n",
              "    </tr>\n",
              "    <tr>\n",
              "      <th>1</th>\n",
              "      <td>26189</td>\n",
              "      <td>2017</td>\n",
              "      <td>25134</td>\n",
              "      <td>Grapevine</td>\n",
              "      <td>TX</td>\n",
              "      <td>1GAZGMFGXH1193321</td>\n",
              "      <td>Chevrolet</td>\n",
              "      <td>Express</td>\n",
              "      <td>2021</td>\n",
              "      <td>4</td>\n",
              "      <td>157409.466566</td>\n",
              "      <td>131220.466566</td>\n",
              "      <td>0.166375</td>\n",
              "    </tr>\n",
              "    <tr>\n",
              "      <th>2</th>\n",
              "      <td>13208</td>\n",
              "      <td>2016</td>\n",
              "      <td>15682</td>\n",
              "      <td>ORLANDO</td>\n",
              "      <td>FL</td>\n",
              "      <td>JA32U2FU6GU000783</td>\n",
              "      <td>Mitsubishi</td>\n",
              "      <td>LancerES</td>\n",
              "      <td>2021</td>\n",
              "      <td>5</td>\n",
              "      <td>79386.927122</td>\n",
              "      <td>66178.927122</td>\n",
              "      <td>0.166375</td>\n",
              "    </tr>\n",
              "    <tr>\n",
              "      <th>3</th>\n",
              "      <td>7950</td>\n",
              "      <td>2006</td>\n",
              "      <td>96014</td>\n",
              "      <td>Midlothian</td>\n",
              "      <td>VA</td>\n",
              "      <td>1ZVFT80N065200235</td>\n",
              "      <td>Ford</td>\n",
              "      <td>Mustang2dr</td>\n",
              "      <td>2021</td>\n",
              "      <td>15</td>\n",
              "      <td>47783.621337</td>\n",
              "      <td>39833.621337</td>\n",
              "      <td>0.166375</td>\n",
              "    </tr>\n",
              "    <tr>\n",
              "      <th>4</th>\n",
              "      <td>17900</td>\n",
              "      <td>2014</td>\n",
              "      <td>41081</td>\n",
              "      <td>Little Rock</td>\n",
              "      <td>AR</td>\n",
              "      <td>4T1BK1FK1EU027365</td>\n",
              "      <td>Toyota</td>\n",
              "      <td>CamryXLE</td>\n",
              "      <td>2021</td>\n",
              "      <td>7</td>\n",
              "      <td>107588.279489</td>\n",
              "      <td>89688.279489</td>\n",
              "      <td>0.166375</td>\n",
              "    </tr>\n",
              "    <tr>\n",
              "      <th>5</th>\n",
              "      <td>14888</td>\n",
              "      <td>2011</td>\n",
              "      <td>98480</td>\n",
              "      <td>Milwaukie</td>\n",
              "      <td>OR</td>\n",
              "      <td>2T3DK4DVXBW053540</td>\n",
              "      <td>Toyota</td>\n",
              "      <td>RAV44WD</td>\n",
              "      <td>2021</td>\n",
              "      <td>10</td>\n",
              "      <td>89484.598047</td>\n",
              "      <td>74596.598047</td>\n",
              "      <td>0.166375</td>\n",
              "    </tr>\n",
              "    <tr>\n",
              "      <th>6</th>\n",
              "      <td>9566</td>\n",
              "      <td>2008</td>\n",
              "      <td>85645</td>\n",
              "      <td>Amherst</td>\n",
              "      <td>NY</td>\n",
              "      <td>2C3KA33G88H284344</td>\n",
              "      <td>Chrysler</td>\n",
              "      <td>3004dr</td>\n",
              "      <td>2021</td>\n",
              "      <td>13</td>\n",
              "      <td>57496.619083</td>\n",
              "      <td>47930.619083</td>\n",
              "      <td>0.166375</td>\n",
              "    </tr>\n",
              "    <tr>\n",
              "      <th>7</th>\n",
              "      <td>19995</td>\n",
              "      <td>2010</td>\n",
              "      <td>118042</td>\n",
              "      <td>Griffin</td>\n",
              "      <td>GA</td>\n",
              "      <td>1GYUKAEF6AR110766</td>\n",
              "      <td>Cadillac</td>\n",
              "      <td>EscaladeBase</td>\n",
              "      <td>2021</td>\n",
              "      <td>11</td>\n",
              "      <td>120180.315552</td>\n",
              "      <td>100185.315552</td>\n",
              "      <td>0.166375</td>\n",
              "    </tr>\n",
              "    <tr>\n",
              "      <th>8</th>\n",
              "      <td>25580</td>\n",
              "      <td>2016</td>\n",
              "      <td>31307</td>\n",
              "      <td>Killeen</td>\n",
              "      <td>TX</td>\n",
              "      <td>WBA8E9C58GK647189</td>\n",
              "      <td>BMW</td>\n",
              "      <td>3</td>\n",
              "      <td>2021</td>\n",
              "      <td>5</td>\n",
              "      <td>153749.060856</td>\n",
              "      <td>128169.060856</td>\n",
              "      <td>0.166375</td>\n",
              "    </tr>\n",
              "    <tr>\n",
              "      <th>9</th>\n",
              "      <td>20884</td>\n",
              "      <td>2009</td>\n",
              "      <td>101570</td>\n",
              "      <td>Helena</td>\n",
              "      <td>MT</td>\n",
              "      <td>2GCEK333791133489</td>\n",
              "      <td>Chevrolet</td>\n",
              "      <td>Silverado</td>\n",
              "      <td>2021</td>\n",
              "      <td>12</td>\n",
              "      <td>125523.666416</td>\n",
              "      <td>104639.666416</td>\n",
              "      <td>0.166375</td>\n",
              "    </tr>\n",
              "  </tbody>\n",
              "</table>\n",
              "</div>"
            ],
            "text/plain": [
              "   Price  Year  Mileage  ... Original_Price   Depreciation Percent_Loss\n",
              "0  24482  2014    37055  ...  147149.511645  122667.511645     0.166375\n",
              "1  26189  2017    25134  ...  157409.466566  131220.466566     0.166375\n",
              "2  13208  2016    15682  ...   79386.927122   66178.927122     0.166375\n",
              "3   7950  2006    96014  ...   47783.621337   39833.621337     0.166375\n",
              "4  17900  2014    41081  ...  107588.279489   89688.279489     0.166375\n",
              "5  14888  2011    98480  ...   89484.598047   74596.598047     0.166375\n",
              "6   9566  2008    85645  ...   57496.619083   47930.619083     0.166375\n",
              "7  19995  2010   118042  ...  120180.315552  100185.315552     0.166375\n",
              "8  25580  2016    31307  ...  153749.060856  128169.060856     0.166375\n",
              "9  20884  2009   101570  ...  125523.666416  104639.666416     0.166375\n",
              "\n",
              "[10 rows x 13 columns]"
            ]
          },
          "metadata": {},
          "execution_count": 13
        }
      ]
    },
    {
      "cell_type": "markdown",
      "source": [
        "# **Visualization**"
      ],
      "metadata": {
        "id": "ytz2kHe49THj"
      }
    },
    {
      "cell_type": "code",
      "source": [
        "sns.set_style('whitegrid')\n",
        "sns.countplot(x='Make', data=df, palette='rainbow')\n",
        "sns.set(rc = {'figure.figsize':(15,10)})"
      ],
      "metadata": {
        "colab": {
          "base_uri": "https://localhost:8080/",
          "height": 279
        },
        "id": "N5BXnEW99aQ2",
        "outputId": "364913d5-c247-4f66-b970-ee49cddf15c2"
      },
      "execution_count": 14,
      "outputs": [
        {
          "output_type": "display_data",
          "data": {
            "image/png": "[encoded data removed]",
            "text/plain": [
              "<Figure size 432x288 with 1 Axes>"
            ]
          },
          "metadata": {}
        }
      ]
    },
    {
      "cell_type": "code",
      "source": [
        "df_cor = pd.concat([df, pd.get_dummies(df['Make'], prefix='Make')],axis=1)\n",
        "df_cor"
      ],
      "metadata": {
        "colab": {
          "base_uri": "https://localhost:8080/",
          "height": 461
        },
        "id": "9-fV1gCC9q-R",
        "outputId": "8b08567a-b208-4d35-b8aa-e5bb58254c13"
      },
      "execution_count": 15,
      "outputs": [
        {
          "output_type": "execute_result",
          "data": {
            "text/html": [
              "<div>\n",
              "<style scoped>\n",
              "    .dataframe tbody tr th:only-of-type {\n",
              "        vertical-align: middle;\n",
              "    }\n",
              "\n",
              "    .dataframe tbody tr th {\n",
              "        vertical-align: top;\n",
              "    }\n",
              "\n",
              "    .dataframe thead th {\n",
              "        text-align: right;\n",
              "    }\n",
              "</style>\n",
              "<table border=\"1\" class=\"dataframe\">\n",
              "  <thead>\n",
              "    <tr style=\"text-align: right;\">\n",
              "      <th></th>\n",
              "      <th>Price</th>\n",
              "      <th>Year</th>\n",
              "      <th>Mileage</th>\n",
              "      <th>City</th>\n",
              "      <th>State</th>\n",
              "      <th>Vin</th>\n",
              "      <th>Make</th>\n",
              "      <th>Model</th>\n",
              "      <th>Current_Year</th>\n",
              "      <th>Age</th>\n",
              "      <th>Original_Price</th>\n",
              "      <th>Depreciation</th>\n",
              "      <th>Percent_Loss</th>\n",
              "      <th>Make_Acura</th>\n",
              "      <th>Make_Audi</th>\n",
              "      <th>Make_BMW</th>\n",
              "      <th>Make_Buick</th>\n",
              "      <th>Make_Cadillac</th>\n",
              "      <th>Make_Chevrolet</th>\n",
              "      <th>Make_Chrysler</th>\n",
              "      <th>Make_Dodge</th>\n",
              "      <th>Make_FIAT</th>\n",
              "      <th>Make_Ferrari</th>\n",
              "      <th>Make_Ford</th>\n",
              "      <th>Make_GMC</th>\n",
              "      <th>Make_Genesis</th>\n",
              "      <th>Make_HUMMER</th>\n",
              "      <th>Make_Honda</th>\n",
              "      <th>Make_Hyundai</th>\n",
              "      <th>Make_INFINITI</th>\n",
              "      <th>Make_Jaguar</th>\n",
              "      <th>Make_Jeep</th>\n",
              "      <th>Make_Kia</th>\n",
              "      <th>Make_Lamborghini</th>\n",
              "      <th>Make_Land</th>\n",
              "      <th>Make_Lexus</th>\n",
              "      <th>Make_Lincoln</th>\n",
              "      <th>Make_MINI</th>\n",
              "      <th>Make_Maserati</th>\n",
              "      <th>Make_Mazda</th>\n",
              "      <th>Make_Mercedes-Benz</th>\n",
              "      <th>Make_Mercury</th>\n",
              "      <th>Make_Mitsubishi</th>\n",
              "      <th>Make_Nissan</th>\n",
              "      <th>Make_Oldsmobile</th>\n",
              "      <th>Make_Plymouth</th>\n",
              "      <th>Make_Pontiac</th>\n",
              "      <th>Make_Porsche</th>\n",
              "      <th>Make_Ram</th>\n",
              "      <th>Make_Rolls-Royce</th>\n",
              "      <th>Make_Saab</th>\n",
              "      <th>Make_Saturn</th>\n",
              "      <th>Make_Scion</th>\n",
              "      <th>Make_Subaru</th>\n",
              "      <th>Make_Suzuki</th>\n",
              "      <th>Make_Tesla</th>\n",
              "      <th>Make_Toyota</th>\n",
              "      <th>Make_Volkswagen</th>\n",
              "      <th>Make_Volvo</th>\n",
              "      <th>Make_smart</th>\n",
              "    </tr>\n",
              "  </thead>\n",
              "  <tbody>\n",
              "    <tr>\n",
              "      <th>0</th>\n",
              "      <td>24482</td>\n",
              "      <td>2014</td>\n",
              "      <td>37055</td>\n",
              "      <td>Matteson</td>\n",
              "      <td>IL</td>\n",
              "      <td>1GNKRJKDXEJ165034</td>\n",
              "      <td>Chevrolet</td>\n",
              "      <td>TraverseLTZ</td>\n",
              "      <td>2021</td>\n",
              "      <td>7</td>\n",
              "      <td>147149.511645</td>\n",
              "      <td>122667.511645</td>\n",
              "      <td>0.166375</td>\n",
              "      <td>0</td>\n",
              "      <td>0</td>\n",
              "      <td>0</td>\n",
              "      <td>0</td>\n",
              "      <td>0</td>\n",
              "      <td>1</td>\n",
              "      <td>0</td>\n",
              "      <td>0</td>\n",
              "      <td>0</td>\n",
              "      <td>0</td>\n",
              "      <td>0</td>\n",
              "      <td>0</td>\n",
              "      <td>0</td>\n",
              "      <td>0</td>\n",
              "      <td>0</td>\n",
              "      <td>0</td>\n",
              "      <td>0</td>\n",
              "      <td>0</td>\n",
              "      <td>0</td>\n",
              "      <td>0</td>\n",
              "      <td>0</td>\n",
              "      <td>0</td>\n",
              "      <td>0</td>\n",
              "      <td>0</td>\n",
              "      <td>0</td>\n",
              "      <td>0</td>\n",
              "      <td>0</td>\n",
              "      <td>0</td>\n",
              "      <td>0</td>\n",
              "      <td>0</td>\n",
              "      <td>0</td>\n",
              "      <td>0</td>\n",
              "      <td>0</td>\n",
              "      <td>0</td>\n",
              "      <td>0</td>\n",
              "      <td>0</td>\n",
              "      <td>0</td>\n",
              "      <td>0</td>\n",
              "      <td>0</td>\n",
              "      <td>0</td>\n",
              "      <td>0</td>\n",
              "      <td>0</td>\n",
              "      <td>0</td>\n",
              "      <td>0</td>\n",
              "      <td>0</td>\n",
              "      <td>0</td>\n",
              "      <td>0</td>\n",
              "    </tr>\n",
              "    <tr>\n",
              "      <th>1</th>\n",
              "      <td>26189</td>\n",
              "      <td>2017</td>\n",
              "      <td>25134</td>\n",
              "      <td>Grapevine</td>\n",
              "      <td>TX</td>\n",
              "      <td>1GAZGMFGXH1193321</td>\n",
              "      <td>Chevrolet</td>\n",
              "      <td>Express</td>\n",
              "      <td>2021</td>\n",
              "      <td>4</td>\n",
              "      <td>157409.466566</td>\n",
              "      <td>131220.466566</td>\n",
              "      <td>0.166375</td>\n",
              "      <td>0</td>\n",
              "      <td>0</td>\n",
              "      <td>0</td>\n",
              "      <td>0</td>\n",
              "      <td>0</td>\n",
              "      <td>1</td>\n",
              "      <td>0</td>\n",
              "      <td>0</td>\n",
              "      <td>0</td>\n",
              "      <td>0</td>\n",
              "      <td>0</td>\n",
              "      <td>0</td>\n",
              "      <td>0</td>\n",
              "      <td>0</td>\n",
              "      <td>0</td>\n",
              "      <td>0</td>\n",
              "      <td>0</td>\n",
              "      <td>0</td>\n",
              "      <td>0</td>\n",
              "      <td>0</td>\n",
              "      <td>0</td>\n",
              "      <td>0</td>\n",
              "      <td>0</td>\n",
              "      <td>0</td>\n",
              "      <td>0</td>\n",
              "      <td>0</td>\n",
              "      <td>0</td>\n",
              "      <td>0</td>\n",
              "      <td>0</td>\n",
              "      <td>0</td>\n",
              "      <td>0</td>\n",
              "      <td>0</td>\n",
              "      <td>0</td>\n",
              "      <td>0</td>\n",
              "      <td>0</td>\n",
              "      <td>0</td>\n",
              "      <td>0</td>\n",
              "      <td>0</td>\n",
              "      <td>0</td>\n",
              "      <td>0</td>\n",
              "      <td>0</td>\n",
              "      <td>0</td>\n",
              "      <td>0</td>\n",
              "      <td>0</td>\n",
              "      <td>0</td>\n",
              "      <td>0</td>\n",
              "      <td>0</td>\n",
              "    </tr>\n",
              "    <tr>\n",
              "      <th>2</th>\n",
              "      <td>13208</td>\n",
              "      <td>2016</td>\n",
              "      <td>15682</td>\n",
              "      <td>ORLANDO</td>\n",
              "      <td>FL</td>\n",
              "      <td>JA32U2FU6GU000783</td>\n",
              "      <td>Mitsubishi</td>\n",
              "      <td>LancerES</td>\n",
              "      <td>2021</td>\n",
              "      <td>5</td>\n",
              "      <td>79386.927122</td>\n",
              "      <td>66178.927122</td>\n",
              "      <td>0.166375</td>\n",
              "      <td>0</td>\n",
              "      <td>0</td>\n",
              "      <td>0</td>\n",
              "      <td>0</td>\n",
              "      <td>0</td>\n",
              "      <td>0</td>\n",
              "      <td>0</td>\n",
              "      <td>0</td>\n",
              "      <td>0</td>\n",
              "      <td>0</td>\n",
              "      <td>0</td>\n",
              "      <td>0</td>\n",
              "      <td>0</td>\n",
              "      <td>0</td>\n",
              "      <td>0</td>\n",
              "      <td>0</td>\n",
              "      <td>0</td>\n",
              "      <td>0</td>\n",
              "      <td>0</td>\n",
              "      <td>0</td>\n",
              "      <td>0</td>\n",
              "      <td>0</td>\n",
              "      <td>0</td>\n",
              "      <td>0</td>\n",
              "      <td>0</td>\n",
              "      <td>0</td>\n",
              "      <td>0</td>\n",
              "      <td>0</td>\n",
              "      <td>0</td>\n",
              "      <td>1</td>\n",
              "      <td>0</td>\n",
              "      <td>0</td>\n",
              "      <td>0</td>\n",
              "      <td>0</td>\n",
              "      <td>0</td>\n",
              "      <td>0</td>\n",
              "      <td>0</td>\n",
              "      <td>0</td>\n",
              "      <td>0</td>\n",
              "      <td>0</td>\n",
              "      <td>0</td>\n",
              "      <td>0</td>\n",
              "      <td>0</td>\n",
              "      <td>0</td>\n",
              "      <td>0</td>\n",
              "      <td>0</td>\n",
              "      <td>0</td>\n",
              "    </tr>\n",
              "    <tr>\n",
              "      <th>3</th>\n",
              "      <td>7950</td>\n",
              "      <td>2006</td>\n",
              "      <td>96014</td>\n",
              "      <td>Midlothian</td>\n",
              "      <td>VA</td>\n",
              "      <td>1ZVFT80N065200235</td>\n",
              "      <td>Ford</td>\n",
              "      <td>Mustang2dr</td>\n",
              "      <td>2021</td>\n",
              "      <td>15</td>\n",
              "      <td>47783.621337</td>\n",
              "      <td>39833.621337</td>\n",
              "      <td>0.166375</td>\n",
              "      <td>0</td>\n",
              "      <td>0</td>\n",
              "      <td>0</td>\n",
              "      <td>0</td>\n",
              "      <td>0</td>\n",
              "      <td>0</td>\n",
              "      <td>0</td>\n",
              "      <td>0</td>\n",
              "      <td>0</td>\n",
              "      <td>0</td>\n",
              "      <td>1</td>\n",
              "      <td>0</td>\n",
              "      <td>0</td>\n",
              "      <td>0</td>\n",
              "      <td>0</td>\n",
              "      <td>0</td>\n",
              "      <td>0</td>\n",
              "      <td>0</td>\n",
              "      <td>0</td>\n",
              "      <td>0</td>\n",
              "      <td>0</td>\n",
              "      <td>0</td>\n",
              "      <td>0</td>\n",
              "      <td>0</td>\n",
              "      <td>0</td>\n",
              "      <td>0</td>\n",
              "      <td>0</td>\n",
              "      <td>0</td>\n",
              "      <td>0</td>\n",
              "      <td>0</td>\n",
              "      <td>0</td>\n",
              "      <td>0</td>\n",
              "      <td>0</td>\n",
              "      <td>0</td>\n",
              "      <td>0</td>\n",
              "      <td>0</td>\n",
              "      <td>0</td>\n",
              "      <td>0</td>\n",
              "      <td>0</td>\n",
              "      <td>0</td>\n",
              "      <td>0</td>\n",
              "      <td>0</td>\n",
              "      <td>0</td>\n",
              "      <td>0</td>\n",
              "      <td>0</td>\n",
              "      <td>0</td>\n",
              "      <td>0</td>\n",
              "    </tr>\n",
              "    <tr>\n",
              "      <th>4</th>\n",
              "      <td>17900</td>\n",
              "      <td>2014</td>\n",
              "      <td>41081</td>\n",
              "      <td>Little Rock</td>\n",
              "      <td>AR</td>\n",
              "      <td>4T1BK1FK1EU027365</td>\n",
              "      <td>Toyota</td>\n",
              "      <td>CamryXLE</td>\n",
              "      <td>2021</td>\n",
              "      <td>7</td>\n",
              "      <td>107588.279489</td>\n",
              "      <td>89688.279489</td>\n",
              "      <td>0.166375</td>\n",
              "      <td>0</td>\n",
              "      <td>0</td>\n",
              "      <td>0</td>\n",
              "      <td>0</td>\n",
              "      <td>0</td>\n",
              "      <td>0</td>\n",
              "      <td>0</td>\n",
              "      <td>0</td>\n",
              "      <td>0</td>\n",
              "      <td>0</td>\n",
              "      <td>0</td>\n",
              "      <td>0</td>\n",
              "      <td>0</td>\n",
              "      <td>0</td>\n",
              "      <td>0</td>\n",
              "      <td>0</td>\n",
              "      <td>0</td>\n",
              "      <td>0</td>\n",
              "      <td>0</td>\n",
              "      <td>0</td>\n",
              "      <td>0</td>\n",
              "      <td>0</td>\n",
              "      <td>0</td>\n",
              "      <td>0</td>\n",
              "      <td>0</td>\n",
              "      <td>0</td>\n",
              "      <td>0</td>\n",
              "      <td>0</td>\n",
              "      <td>0</td>\n",
              "      <td>0</td>\n",
              "      <td>0</td>\n",
              "      <td>0</td>\n",
              "      <td>0</td>\n",
              "      <td>0</td>\n",
              "      <td>0</td>\n",
              "      <td>0</td>\n",
              "      <td>0</td>\n",
              "      <td>0</td>\n",
              "      <td>0</td>\n",
              "      <td>0</td>\n",
              "      <td>0</td>\n",
              "      <td>0</td>\n",
              "      <td>0</td>\n",
              "      <td>1</td>\n",
              "      <td>0</td>\n",
              "      <td>0</td>\n",
              "      <td>0</td>\n",
              "    </tr>\n",
              "    <tr>\n",
              "      <th>...</th>\n",
              "      <td>...</td>\n",
              "      <td>...</td>\n",
              "      <td>...</td>\n",
              "      <td>...</td>\n",
              "      <td>...</td>\n",
              "      <td>...</td>\n",
              "      <td>...</td>\n",
              "      <td>...</td>\n",
              "      <td>...</td>\n",
              "      <td>...</td>\n",
              "      <td>...</td>\n",
              "      <td>...</td>\n",
              "      <td>...</td>\n",
              "      <td>...</td>\n",
              "      <td>...</td>\n",
              "      <td>...</td>\n",
              "      <td>...</td>\n",
              "      <td>...</td>\n",
              "      <td>...</td>\n",
              "      <td>...</td>\n",
              "      <td>...</td>\n",
              "      <td>...</td>\n",
              "      <td>...</td>\n",
              "      <td>...</td>\n",
              "      <td>...</td>\n",
              "      <td>...</td>\n",
              "      <td>...</td>\n",
              "      <td>...</td>\n",
              "      <td>...</td>\n",
              "      <td>...</td>\n",
              "      <td>...</td>\n",
              "      <td>...</td>\n",
              "      <td>...</td>\n",
              "      <td>...</td>\n",
              "      <td>...</td>\n",
              "      <td>...</td>\n",
              "      <td>...</td>\n",
              "      <td>...</td>\n",
              "      <td>...</td>\n",
              "      <td>...</td>\n",
              "      <td>...</td>\n",
              "      <td>...</td>\n",
              "      <td>...</td>\n",
              "      <td>...</td>\n",
              "      <td>...</td>\n",
              "      <td>...</td>\n",
              "      <td>...</td>\n",
              "      <td>...</td>\n",
              "      <td>...</td>\n",
              "      <td>...</td>\n",
              "      <td>...</td>\n",
              "      <td>...</td>\n",
              "      <td>...</td>\n",
              "      <td>...</td>\n",
              "      <td>...</td>\n",
              "      <td>...</td>\n",
              "      <td>...</td>\n",
              "      <td>...</td>\n",
              "      <td>...</td>\n",
              "      <td>...</td>\n",
              "    </tr>\n",
              "    <tr>\n",
              "      <th>4995</th>\n",
              "      <td>17500</td>\n",
              "      <td>2014</td>\n",
              "      <td>51196</td>\n",
              "      <td>Langhorne</td>\n",
              "      <td>PA</td>\n",
              "      <td>5XYZUDLB2EG143081</td>\n",
              "      <td>Hyundai</td>\n",
              "      <td>Santa</td>\n",
              "      <td>2021</td>\n",
              "      <td>7</td>\n",
              "      <td>105184.072126</td>\n",
              "      <td>87684.072126</td>\n",
              "      <td>0.166375</td>\n",
              "      <td>0</td>\n",
              "      <td>0</td>\n",
              "      <td>0</td>\n",
              "      <td>0</td>\n",
              "      <td>0</td>\n",
              "      <td>0</td>\n",
              "      <td>0</td>\n",
              "      <td>0</td>\n",
              "      <td>0</td>\n",
              "      <td>0</td>\n",
              "      <td>0</td>\n",
              "      <td>0</td>\n",
              "      <td>0</td>\n",
              "      <td>0</td>\n",
              "      <td>0</td>\n",
              "      <td>1</td>\n",
              "      <td>0</td>\n",
              "      <td>0</td>\n",
              "      <td>0</td>\n",
              "      <td>0</td>\n",
              "      <td>0</td>\n",
              "      <td>0</td>\n",
              "      <td>0</td>\n",
              "      <td>0</td>\n",
              "      <td>0</td>\n",
              "      <td>0</td>\n",
              "      <td>0</td>\n",
              "      <td>0</td>\n",
              "      <td>0</td>\n",
              "      <td>0</td>\n",
              "      <td>0</td>\n",
              "      <td>0</td>\n",
              "      <td>0</td>\n",
              "      <td>0</td>\n",
              "      <td>0</td>\n",
              "      <td>0</td>\n",
              "      <td>0</td>\n",
              "      <td>0</td>\n",
              "      <td>0</td>\n",
              "      <td>0</td>\n",
              "      <td>0</td>\n",
              "      <td>0</td>\n",
              "      <td>0</td>\n",
              "      <td>0</td>\n",
              "      <td>0</td>\n",
              "      <td>0</td>\n",
              "      <td>0</td>\n",
              "    </tr>\n",
              "    <tr>\n",
              "      <th>4996</th>\n",
              "      <td>21464</td>\n",
              "      <td>2016</td>\n",
              "      <td>16852</td>\n",
              "      <td>Redford</td>\n",
              "      <td>MI</td>\n",
              "      <td>1FMCU9GXXGUB46610</td>\n",
              "      <td>Ford</td>\n",
              "      <td>Escape4WD</td>\n",
              "      <td>2021</td>\n",
              "      <td>5</td>\n",
              "      <td>129009.767092</td>\n",
              "      <td>107545.767092</td>\n",
              "      <td>0.166375</td>\n",
              "      <td>0</td>\n",
              "      <td>0</td>\n",
              "      <td>0</td>\n",
              "      <td>0</td>\n",
              "      <td>0</td>\n",
              "      <td>0</td>\n",
              "      <td>0</td>\n",
              "      <td>0</td>\n",
              "      <td>0</td>\n",
              "      <td>0</td>\n",
              "      <td>1</td>\n",
              "      <td>0</td>\n",
              "      <td>0</td>\n",
              "      <td>0</td>\n",
              "      <td>0</td>\n",
              "      <td>0</td>\n",
              "      <td>0</td>\n",
              "      <td>0</td>\n",
              "      <td>0</td>\n",
              "      <td>0</td>\n",
              "      <td>0</td>\n",
              "      <td>0</td>\n",
              "      <td>0</td>\n",
              "      <td>0</td>\n",
              "      <td>0</td>\n",
              "      <td>0</td>\n",
              "      <td>0</td>\n",
              "      <td>0</td>\n",
              "      <td>0</td>\n",
              "      <td>0</td>\n",
              "      <td>0</td>\n",
              "      <td>0</td>\n",
              "      <td>0</td>\n",
              "      <td>0</td>\n",
              "      <td>0</td>\n",
              "      <td>0</td>\n",
              "      <td>0</td>\n",
              "      <td>0</td>\n",
              "      <td>0</td>\n",
              "      <td>0</td>\n",
              "      <td>0</td>\n",
              "      <td>0</td>\n",
              "      <td>0</td>\n",
              "      <td>0</td>\n",
              "      <td>0</td>\n",
              "      <td>0</td>\n",
              "      <td>0</td>\n",
              "    </tr>\n",
              "    <tr>\n",
              "      <th>4997</th>\n",
              "      <td>15201</td>\n",
              "      <td>2014</td>\n",
              "      <td>7504</td>\n",
              "      <td>Bethlehem</td>\n",
              "      <td>PA</td>\n",
              "      <td>1G1PC5SB5E7458741</td>\n",
              "      <td>Chevrolet</td>\n",
              "      <td>Cruze1LT</td>\n",
              "      <td>2021</td>\n",
              "      <td>7</td>\n",
              "      <td>91365.890308</td>\n",
              "      <td>76164.890308</td>\n",
              "      <td>0.166375</td>\n",
              "      <td>0</td>\n",
              "      <td>0</td>\n",
              "      <td>0</td>\n",
              "      <td>0</td>\n",
              "      <td>0</td>\n",
              "      <td>1</td>\n",
              "      <td>0</td>\n",
              "      <td>0</td>\n",
              "      <td>0</td>\n",
              "      <td>0</td>\n",
              "      <td>0</td>\n",
              "      <td>0</td>\n",
              "      <td>0</td>\n",
              "      <td>0</td>\n",
              "      <td>0</td>\n",
              "      <td>0</td>\n",
              "      <td>0</td>\n",
              "      <td>0</td>\n",
              "      <td>0</td>\n",
              "      <td>0</td>\n",
              "      <td>0</td>\n",
              "      <td>0</td>\n",
              "      <td>0</td>\n",
              "      <td>0</td>\n",
              "      <td>0</td>\n",
              "      <td>0</td>\n",
              "      <td>0</td>\n",
              "      <td>0</td>\n",
              "      <td>0</td>\n",
              "      <td>0</td>\n",
              "      <td>0</td>\n",
              "      <td>0</td>\n",
              "      <td>0</td>\n",
              "      <td>0</td>\n",
              "      <td>0</td>\n",
              "      <td>0</td>\n",
              "      <td>0</td>\n",
              "      <td>0</td>\n",
              "      <td>0</td>\n",
              "      <td>0</td>\n",
              "      <td>0</td>\n",
              "      <td>0</td>\n",
              "      <td>0</td>\n",
              "      <td>0</td>\n",
              "      <td>0</td>\n",
              "      <td>0</td>\n",
              "      <td>0</td>\n",
              "    </tr>\n",
              "    <tr>\n",
              "      <th>4998</th>\n",
              "      <td>29984</td>\n",
              "      <td>2016</td>\n",
              "      <td>45404</td>\n",
              "      <td>Wendell</td>\n",
              "      <td>NC</td>\n",
              "      <td>1FM5K7F89GGC48766</td>\n",
              "      <td>Ford</td>\n",
              "      <td>ExplorerFWD</td>\n",
              "      <td>2021</td>\n",
              "      <td>5</td>\n",
              "      <td>180219.383922</td>\n",
              "      <td>150235.383922</td>\n",
              "      <td>0.166375</td>\n",
              "      <td>0</td>\n",
              "      <td>0</td>\n",
              "      <td>0</td>\n",
              "      <td>0</td>\n",
              "      <td>0</td>\n",
              "      <td>0</td>\n",
              "      <td>0</td>\n",
              "      <td>0</td>\n",
              "      <td>0</td>\n",
              "      <td>0</td>\n",
              "      <td>1</td>\n",
              "      <td>0</td>\n",
              "      <td>0</td>\n",
              "      <td>0</td>\n",
              "      <td>0</td>\n",
              "      <td>0</td>\n",
              "      <td>0</td>\n",
              "      <td>0</td>\n",
              "      <td>0</td>\n",
              "      <td>0</td>\n",
              "      <td>0</td>\n",
              "      <td>0</td>\n",
              "      <td>0</td>\n",
              "      <td>0</td>\n",
              "      <td>0</td>\n",
              "      <td>0</td>\n",
              "      <td>0</td>\n",
              "      <td>0</td>\n",
              "      <td>0</td>\n",
              "      <td>0</td>\n",
              "      <td>0</td>\n",
              "      <td>0</td>\n",
              "      <td>0</td>\n",
              "      <td>0</td>\n",
              "      <td>0</td>\n",
              "      <td>0</td>\n",
              "      <td>0</td>\n",
              "      <td>0</td>\n",
              "      <td>0</td>\n",
              "      <td>0</td>\n",
              "      <td>0</td>\n",
              "      <td>0</td>\n",
              "      <td>0</td>\n",
              "      <td>0</td>\n",
              "      <td>0</td>\n",
              "      <td>0</td>\n",
              "      <td>0</td>\n",
              "    </tr>\n",
              "    <tr>\n",
              "      <th>4999</th>\n",
              "      <td>8602</td>\n",
              "      <td>2011</td>\n",
              "      <td>64538</td>\n",
              "      <td>Dallas</td>\n",
              "      <td>TX</td>\n",
              "      <td>1G1PK5S95B7238365</td>\n",
              "      <td>Chevrolet</td>\n",
              "      <td>Cruze4dr</td>\n",
              "      <td>2021</td>\n",
              "      <td>10</td>\n",
              "      <td>51702.479339</td>\n",
              "      <td>43100.479339</td>\n",
              "      <td>0.166375</td>\n",
              "      <td>0</td>\n",
              "      <td>0</td>\n",
              "      <td>0</td>\n",
              "      <td>0</td>\n",
              "      <td>0</td>\n",
              "      <td>1</td>\n",
              "      <td>0</td>\n",
              "      <td>0</td>\n",
              "      <td>0</td>\n",
              "      <td>0</td>\n",
              "      <td>0</td>\n",
              "      <td>0</td>\n",
              "      <td>0</td>\n",
              "      <td>0</td>\n",
              "      <td>0</td>\n",
              "      <td>0</td>\n",
              "      <td>0</td>\n",
              "      <td>0</td>\n",
              "      <td>0</td>\n",
              "      <td>0</td>\n",
              "      <td>0</td>\n",
              "      <td>0</td>\n",
              "      <td>0</td>\n",
              "      <td>0</td>\n",
              "      <td>0</td>\n",
              "      <td>0</td>\n",
              "      <td>0</td>\n",
              "      <td>0</td>\n",
              "      <td>0</td>\n",
              "      <td>0</td>\n",
              "      <td>0</td>\n",
              "      <td>0</td>\n",
              "      <td>0</td>\n",
              "      <td>0</td>\n",
              "      <td>0</td>\n",
              "      <td>0</td>\n",
              "      <td>0</td>\n",
              "      <td>0</td>\n",
              "      <td>0</td>\n",
              "      <td>0</td>\n",
              "      <td>0</td>\n",
              "      <td>0</td>\n",
              "      <td>0</td>\n",
              "      <td>0</td>\n",
              "      <td>0</td>\n",
              "      <td>0</td>\n",
              "      <td>0</td>\n",
              "    </tr>\n",
              "  </tbody>\n",
              "</table>\n",
              "<p>5000 rows × 60 columns</p>\n",
              "</div>"
            ],
            "text/plain": [
              "      Price  Year  Mileage  ... Make_Volkswagen Make_Volvo Make_smart\n",
              "0     24482  2014    37055  ...               0          0          0\n",
              "1     26189  2017    25134  ...               0          0          0\n",
              "2     13208  2016    15682  ...               0          0          0\n",
              "3      7950  2006    96014  ...               0          0          0\n",
              "4     17900  2014    41081  ...               0          0          0\n",
              "...     ...   ...      ...  ...             ...        ...        ...\n",
              "4995  17500  2014    51196  ...               0          0          0\n",
              "4996  21464  2016    16852  ...               0          0          0\n",
              "4997  15201  2014     7504  ...               0          0          0\n",
              "4998  29984  2016    45404  ...               0          0          0\n",
              "4999   8602  2011    64538  ...               0          0          0\n",
              "\n",
              "[5000 rows x 60 columns]"
            ]
          },
          "metadata": {},
          "execution_count": 15
        }
      ]
    },
    {
      "cell_type": "code",
      "source": [
        "sns.lmplot(x='Age', y='Price', hue='Make', data= df_cor, fit_reg= False, height=15, aspect=1.5)"
      ],
      "metadata": {
        "colab": {
          "base_uri": "https://localhost:8080/",
          "height": 906
        },
        "id": "ZeDI_5BP-P7f",
        "outputId": "d3768bf5-5fcc-4777-ea72-a0470aa16d05"
      },
      "execution_count": 16,
      "outputs": [
        {
          "output_type": "execute_result",
          "data": {
            "text/plain": [
              "<seaborn.axisgrid.FacetGrid at 0x7fb3382d02d0>"
            ]
          },
          "metadata": {},
          "execution_count": 16
        },
        {
          "output_type": "display_data",
          "data": {
            "image/png": "[encoded data removed]",
            "text/plain": [
              "<Figure size 1743.72x1080 with 1 Axes>"
            ]
          },
          "metadata": {}
        }
      ]
    },
    {
      "cell_type": "code",
      "source": [
        "sns.lmplot(x='Mileage', y='Price', hue='Make', data= df_cor, fit_reg= False, height=15, aspect=1.5)"
      ],
      "metadata": {
        "colab": {
          "base_uri": "https://localhost:8080/",
          "height": 906
        },
        "id": "5Q9r3V26-a53",
        "outputId": "5f4c8600-9727-437a-93ea-d69fa6519fbe"
      },
      "execution_count": 17,
      "outputs": [
        {
          "output_type": "execute_result",
          "data": {
            "text/plain": [
              "<seaborn.axisgrid.FacetGrid at 0x7fb32f928610>"
            ]
          },
          "metadata": {},
          "execution_count": 17
        },
        {
          "output_type": "display_data",
          "data": {
            "image/png": "[encoded data removed]",
            "text/plain": [
              "<Figure size 1743.72x1080 with 1 Axes>"
            ]
          },
          "metadata": {}
        }
      ]
    },
    {
      "cell_type": "markdown",
      "source": [
        "# **Gini Score for Feature Importance**"
      ],
      "metadata": {
        "id": "oNWWPknXBNlK"
      }
    },
    {
      "cell_type": "code",
      "source": [
        "X = df.drop(['Price', 'Vin', 'Make', 'Model', 'Current_Year', \"City\", \"State\"], axis=1)\n",
        "y = df['Price']"
      ],
      "metadata": {
        "id": "1QzM5OwyBTpd"
      },
      "execution_count": 18,
      "outputs": []
    },
    {
      "cell_type": "code",
      "source": [
        "X_train, X_test, y_train, y_test = train_test_split(X, y, test_size=0.25, random_state=12)"
      ],
      "metadata": {
        "id": "F9AuGOriBNWx"
      },
      "execution_count": 19,
      "outputs": []
    },
    {
      "cell_type": "code",
      "source": [
        "et = ExtraTreesRegressor(n_estimators=100)\n",
        "et.fit(X_train, y_train)"
      ],
      "metadata": {
        "colab": {
          "base_uri": "https://localhost:8080/"
        },
        "id": "MvH5wuoBB1b8",
        "outputId": "0146c225-5b65-43de-8436-438ca65e044c"
      },
      "execution_count": 20,
      "outputs": [
        {
          "output_type": "execute_result",
          "data": {
            "text/plain": [
              "ExtraTreesRegressor()"
            ]
          },
          "metadata": {},
          "execution_count": 20
        }
      ]
    },
    {
      "cell_type": "code",
      "source": [
        "et.feature_importances_"
      ],
      "metadata": {
        "colab": {
          "base_uri": "https://localhost:8080/"
        },
        "id": "vsKmis1jCm8f",
        "outputId": "1d1a6c02-d424-4664-f891-c8d4cf3d66f5"
      },
      "execution_count": 21,
      "outputs": [
        {
          "output_type": "execute_result",
          "data": {
            "text/plain": [
              "array([0.0057715 , 0.00291887, 0.00316893, 0.47755859, 0.51058211,\n",
              "       0.        ])"
            ]
          },
          "metadata": {},
          "execution_count": 21
        }
      ]
    },
    {
      "cell_type": "code",
      "source": [
        "(pd.Series(et.feature_importances_, index=X.columns)\n",
        "   .nlargest(10)\n",
        "   .plot(kind='barh'))"
      ],
      "metadata": {
        "colab": {
          "base_uri": "https://localhost:8080/",
          "height": 611
        },
        "id": "JD7QfprzCrNQ",
        "outputId": "7b9030f6-5a30-4415-8494-a19613f2ed45"
      },
      "execution_count": 22,
      "outputs": [
        {
          "output_type": "execute_result",
          "data": {
            "text/plain": [
              "<matplotlib.axes._subplots.AxesSubplot at 0x7fb32e060cd0>"
            ]
          },
          "metadata": {},
          "execution_count": 22
        },
        {
          "output_type": "display_data",
          "data": {
            "image/png": "[encoded data removed]",
            "text/plain": [
              "<Figure size 1080x720 with 1 Axes>"
            ]
          },
          "metadata": {}
        }
      ]
    },
    {
      "cell_type": "markdown",
      "source": [
        "# **Running KMeans**"
      ],
      "metadata": {
        "id": "WKUZXvYODzT9"
      }
    },
    {
      "cell_type": "code",
      "source": [
        "def doKMeans(df, iterations=50):\n",
        "  try:\n",
        "    df.drop('cluster', axis=1, inplace=True)\n",
        "  except:\n",
        "    next\n",
        "  X = df.iloc[:,1:]\n",
        "\n",
        "  S={}\n",
        "  SSE = {}\n",
        "\n",
        "  rb = RobustScaler()\n",
        "  X_rb = rb.fit_transform(X)\n",
        "\n",
        "  for k in range(2, iterations):\n",
        "      kmeans = KMeans(n_clusters=k,  random_state=10, n_init=10)\n",
        "      kmeans.fit(X_rb)\n",
        "      SSE[k] = kmeans.inertia_\n",
        "      S[k] = silhouette_score(X_rb, kmeans.labels_, random_state=10)\n",
        "\n",
        "\n",
        "  fig, axs = plt.subplots(2)\n",
        "  fig.tight_layout()\n",
        "  axs[0].plot(list(SSE.keys()), list(SSE.values()))\n",
        "  axs[0].set_xlabel(\"Number of Clusters\")\n",
        "  axs[0].set_ylabel(\"SSE Within Cluster\")\n",
        "  axs[0].set_title(\"Within Cluster SSE After K-Means Clustering\")\n",
        "  axs[0].set_xticks([i for i in range(2, iterations)])\n",
        "\n",
        "  axs[1].plot(list(S.keys()), list(S.values()))\n",
        "  axs[1].set_xlabel('Number of clusters')\n",
        "  axs[1].set_ylabel(\"Silhouette Score\")\n",
        "  axs[1].set_xticks([i for i in range(2, iterations)])\n",
        "\n",
        "def applyKMeans(df, clusters=2):\n",
        "    try:\n",
        "        df.drop('cluster', axis=1, inplace=True)\n",
        "    except:\n",
        "        next\n",
        "    X = df.iloc[:,1:]\n",
        "\n",
        "    rb = RobustScaler()\n",
        "    X_rb = rb.fit_transform(X)\n",
        "    \n",
        "    kmeans = KMeans(n_clusters=clusters, random_state=10, n_init=10)  \n",
        "    kmeans.fit(X_rb) \n",
        "    score = silhouette_score(X_rb, kmeans.labels_, random_state=10)\n",
        "    df['cluster'] = kmeans.labels_\n",
        "    sse_within_cluster = kmeans.inertia_\n",
        "    \n",
        "    print(\"clustering performance\")\n",
        "    print(\"-----------------------------------\")\n",
        "    print(\"silhouette score: \" + str(score))\n",
        "    print(\"sse withing cluster: \" + str(sse_within_cluster))\n",
        "        \n",
        "    return df"
      ],
      "metadata": {
        "id": "RQoVbO2LD55T"
      },
      "execution_count": 23,
      "outputs": []
    },
    {
      "cell_type": "code",
      "source": [
        "cluster_col = ['Price', 'Age', 'Year', 'Mileage']\n",
        "df_cluster = df_cor[cluster_col]"
      ],
      "metadata": {
        "id": "bsS3hQ-lEPCx"
      },
      "execution_count": 24,
      "outputs": []
    },
    {
      "cell_type": "code",
      "source": [
        "doKMeans(df_cluster, iterations=25)"
      ],
      "metadata": {
        "colab": {
          "base_uri": "https://localhost:8080/",
          "height": 754
        },
        "id": "xIs9N2XNEoUz",
        "outputId": "10cbe01f-a58d-4f2b-b13f-9d92a53d80a9"
      },
      "execution_count": 25,
      "outputs": [
        {
          "output_type": "display_data",
          "data": {
            "image/png": "[encoded data removed]",
            "text/plain": [
              "<Figure size 1080x720 with 2 Axes>"
            ]
          },
          "metadata": {}
        }
      ]
    },
    {
      "cell_type": "code",
      "source": [
        "first_trial = applyKMeans(df_cluster, clusters=8)"
      ],
      "metadata": {
        "colab": {
          "base_uri": "https://localhost:8080/"
        },
        "id": "bvTlRjK-FOsz",
        "outputId": "cbf9bf67-8f5b-4b1d-bab8-e117a10a0631"
      },
      "execution_count": 26,
      "outputs": [
        {
          "output_type": "stream",
          "name": "stdout",
          "text": [
            "clustering performance\n",
            "-----------------------------------\n",
            "silhouette score: 0.38759764219488013\n",
            "sse withing cluster: 1199.1268623519097\n"
          ]
        },
        {
          "output_type": "stream",
          "name": "stderr",
          "text": [
            "/usr/local/lib/python3.7/dist-packages/ipykernel_launcher.py:47: SettingWithCopyWarning: \n",
            "A value is trying to be set on a copy of a slice from a DataFrame.\n",
            "Try using .loc[row_indexer,col_indexer] = value instead\n",
            "\n",
            "See the caveats in the documentation: https://pandas.pydata.org/pandas-docs/stable/user_guide/indexing.html#returning-a-view-versus-a-copy\n"
          ]
        }
      ]
    },
    {
      "cell_type": "code",
      "source": [
        "cluster_perf_df = (\n",
        "    first_trial\n",
        "    .groupby('cluster')\n",
        "    .agg({\"Price\": \"mean\", \"Age\":\"mean\", \"Mileage\":\"mean\"})\n",
        "    .sort_values('Price')\n",
        "    .reset_index()\n",
        ")\n",
        "cluster_perf_df"
      ],
      "metadata": {
        "colab": {
          "base_uri": "https://localhost:8080/",
          "height": 300
        },
        "id": "dZ8qks_AF3lr",
        "outputId": "102b76ce-ff44-4fa5-9f1c-fc7330456572"
      },
      "execution_count": 27,
      "outputs": [
        {
          "output_type": "execute_result",
          "data": {
            "text/html": [
              "<div>\n",
              "<style scoped>\n",
              "    .dataframe tbody tr th:only-of-type {\n",
              "        vertical-align: middle;\n",
              "    }\n",
              "\n",
              "    .dataframe tbody tr th {\n",
              "        vertical-align: top;\n",
              "    }\n",
              "\n",
              "    .dataframe thead th {\n",
              "        text-align: right;\n",
              "    }\n",
              "</style>\n",
              "<table border=\"1\" class=\"dataframe\">\n",
              "  <thead>\n",
              "    <tr style=\"text-align: right;\">\n",
              "      <th></th>\n",
              "      <th>cluster</th>\n",
              "      <th>Price</th>\n",
              "      <th>Age</th>\n",
              "      <th>Mileage</th>\n",
              "    </tr>\n",
              "  </thead>\n",
              "  <tbody>\n",
              "    <tr>\n",
              "      <th>0</th>\n",
              "      <td>2</td>\n",
              "      <td>4990.000000</td>\n",
              "      <td>16.000000</td>\n",
              "      <td>2.137327e+06</td>\n",
              "    </tr>\n",
              "    <tr>\n",
              "      <th>1</th>\n",
              "      <td>5</td>\n",
              "      <td>7297.893617</td>\n",
              "      <td>17.368794</td>\n",
              "      <td>1.714595e+05</td>\n",
              "    </tr>\n",
              "    <tr>\n",
              "      <th>2</th>\n",
              "      <td>1</td>\n",
              "      <td>11414.125000</td>\n",
              "      <td>12.100000</td>\n",
              "      <td>1.257315e+05</td>\n",
              "    </tr>\n",
              "    <tr>\n",
              "      <th>3</th>\n",
              "      <td>6</td>\n",
              "      <td>11586.631818</td>\n",
              "      <td>15.772727</td>\n",
              "      <td>9.392165e+04</td>\n",
              "    </tr>\n",
              "    <tr>\n",
              "      <th>4</th>\n",
              "      <td>4</td>\n",
              "      <td>16921.242574</td>\n",
              "      <td>11.029703</td>\n",
              "      <td>6.998229e+04</td>\n",
              "    </tr>\n",
              "    <tr>\n",
              "      <th>5</th>\n",
              "      <td>7</td>\n",
              "      <td>19000.043478</td>\n",
              "      <td>8.008696</td>\n",
              "      <td>7.235908e+04</td>\n",
              "    </tr>\n",
              "    <tr>\n",
              "      <th>6</th>\n",
              "      <td>0</td>\n",
              "      <td>23487.297775</td>\n",
              "      <td>6.591557</td>\n",
              "      <td>3.397527e+04</td>\n",
              "    </tr>\n",
              "    <tr>\n",
              "      <th>7</th>\n",
              "      <td>3</td>\n",
              "      <td>28012.278761</td>\n",
              "      <td>4.648968</td>\n",
              "      <td>1.937489e+04</td>\n",
              "    </tr>\n",
              "  </tbody>\n",
              "</table>\n",
              "</div>"
            ],
            "text/plain": [
              "   cluster         Price        Age       Mileage\n",
              "0        2   4990.000000  16.000000  2.137327e+06\n",
              "1        5   7297.893617  17.368794  1.714595e+05\n",
              "2        1  11414.125000  12.100000  1.257315e+05\n",
              "3        6  11586.631818  15.772727  9.392165e+04\n",
              "4        4  16921.242574  11.029703  6.998229e+04\n",
              "5        7  19000.043478   8.008696  7.235908e+04\n",
              "6        0  23487.297775   6.591557  3.397527e+04\n",
              "7        3  28012.278761   4.648968  1.937489e+04"
            ]
          },
          "metadata": {},
          "execution_count": 27
        }
      ]
    },
    {
      "cell_type": "markdown",
      "source": [
        "# **Modeling**"
      ],
      "metadata": {
        "id": "PEWRt6RuGeWc"
      }
    },
    {
      "cell_type": "code",
      "source": [
        "from matplotlib.colors import ListedColormap\n",
        "from sklearn.datasets import make_moons, make_circles, make_classification\n",
        "from sklearn.neural_network import MLPClassifier\n",
        "from sklearn.neighbors import KNeighborsClassifier\n",
        "from sklearn.svm import SVC\n",
        "from sklearn.gaussian_process import GaussianProcessClassifier\n",
        "from sklearn.gaussian_process.kernels import RBF\n",
        "from sklearn.tree import DecisionTreeClassifier\n",
        "from sklearn.ensemble import RandomForestClassifier, AdaBoostClassifier\n",
        "from sklearn.naive_bayes import GaussianNB\n",
        "from sklearn.discriminant_analysis import QuadraticDiscriminantAnalysis\n",
        "from sklearn import preprocessing\n",
        "from sklearn import utils"
      ],
      "metadata": {
        "id": "miuTh040MQxn"
      },
      "execution_count": 28,
      "outputs": []
    },
    {
      "cell_type": "code",
      "source": [
        "names = [\"Nearest Neighbors\", \"Decision Tree\", \"Random Forest\", \"Neural Net\", \"AdaBoost\"]\n",
        "\n",
        "classifiers = [\n",
        "    KNeighborsClassifier(2),\n",
        "    DecisionTreeClassifier(max_depth=5),\n",
        "    RandomForestClassifier(max_depth=5, n_estimators=10, max_features=1),\n",
        "    MLPClassifier(alpha=1, max_iter=1000),\n",
        "    AdaBoostClassifier()]"
      ],
      "metadata": {
        "id": "NMTunyUIMdH4"
      },
      "execution_count": 29,
      "outputs": []
    },
    {
      "cell_type": "code",
      "source": [
        "from datetime import datetime\n",
        "import time\n",
        "\n",
        "max_score = 0.0\n",
        "max_class = ''\n",
        "# iterate over classifiers\n",
        "for name, clf in zip(names, classifiers):\n",
        "    start_time = time.time()\n",
        "    clf.fit(X_train, y_train)\n",
        "    score = 100.0 * clf.score(X_test, y_test)\n",
        "    print('Classifier = %s, Score (test, accuracy) = %.2f,' %(name, score), 'Training time = %.2f seconds' % (time.time() - start_time))\n",
        "    \n",
        "    if score > max_score:\n",
        "        clf_best = clf\n",
        "        max_score = score\n",
        "        max_class = name\n",
        "\n",
        "print(80*'-' )\n",
        "print('Best --> Classifier = %s, Score (test, accuracy) = %.2f' %(max_class, max_score))\n",
        "#plot the output of the various algorithms"
      ],
      "metadata": {
        "colab": {
          "base_uri": "https://localhost:8080/"
        },
        "id": "_1mmvzo_MmTm",
        "outputId": "1e6258f4-53b6-4c58-cdce-990541c9ff52"
      },
      "execution_count": 30,
      "outputs": [
        {
          "output_type": "stream",
          "name": "stdout",
          "text": [
            "Classifier = Nearest Neighbors, Score (test, accuracy) = 3.52, Training time = 0.07 seconds\n",
            "Classifier = Decision Tree, Score (test, accuracy) = 5.52, Training time = 0.21 seconds\n",
            "Classifier = Random Forest, Score (test, accuracy) = 4.32, Training time = 0.47 seconds\n",
            "Classifier = Neural Net, Score (test, accuracy) = 0.56, Training time = 154.35 seconds\n",
            "Classifier = AdaBoost, Score (test, accuracy) = 1.20, Training time = 22.50 seconds\n",
            "--------------------------------------------------------------------------------\n",
            "Best --> Classifier = Decision Tree, Score (test, accuracy) = 5.52\n"
          ]
        }
      ]
    },
    {
      "cell_type": "code",
      "source": [
        "rf = RandomForestRegressor()"
      ],
      "metadata": {
        "id": "3Vvm8IGhGl6o"
      },
      "execution_count": 31,
      "outputs": []
    },
    {
      "cell_type": "code",
      "source": [
        "n_estimators = [int(x) for x in np.linspace(start = 100, stop = 1200, num = 12)]\n",
        "print(n_estimators)"
      ],
      "metadata": {
        "colab": {
          "base_uri": "https://localhost:8080/"
        },
        "id": "Y7DRuciDHBT5",
        "outputId": "63ac853d-26b2-44ef-9223-6f14ebb940bc"
      },
      "execution_count": 32,
      "outputs": [
        {
          "output_type": "stream",
          "name": "stdout",
          "text": [
            "[100, 200, 300, 400, 500, 600, 700, 800, 900, 1000, 1100, 1200]\n"
          ]
        }
      ]
    },
    {
      "cell_type": "code",
      "source": [
        "rf.fit(X_train, y_train)"
      ],
      "metadata": {
        "colab": {
          "base_uri": "https://localhost:8080/"
        },
        "id": "0W10KRwPHMEE",
        "outputId": "46fc91b8-810e-420f-e220-aaa5933740f1"
      },
      "execution_count": 33,
      "outputs": [
        {
          "output_type": "execute_result",
          "data": {
            "text/plain": [
              "RandomForestRegressor()"
            ]
          },
          "metadata": {},
          "execution_count": 33
        }
      ]
    },
    {
      "cell_type": "code",
      "source": [
        "pred = rf.predict(X_test)\n",
        "print(metrics.r2_score(y_test, pred))"
      ],
      "metadata": {
        "colab": {
          "base_uri": "https://localhost:8080/"
        },
        "id": "eK901ViLHa5C",
        "outputId": "01ad63f7-4563-4e35-e102-c388b4b10f61"
      },
      "execution_count": 34,
      "outputs": [
        {
          "output_type": "stream",
          "name": "stdout",
          "text": [
            "0.9980105636135863\n"
          ]
        }
      ]
    },
    {
      "cell_type": "code",
      "source": [
        "results = pd.DataFrame({'Actual': y_test, 'Predicted': pred})\n",
        "df1 = results.head(40)\n",
        "df1.head(30)"
      ],
      "metadata": {
        "colab": {
          "base_uri": "https://localhost:8080/",
          "height": 990
        },
        "id": "IKKSg0PYOh4i",
        "outputId": "9831a741-05e5-4bb7-b490-569ec114d4f8"
      },
      "execution_count": 35,
      "outputs": [
        {
          "output_type": "execute_result",
          "data": {
            "text/html": [
              "<div>\n",
              "<style scoped>\n",
              "    .dataframe tbody tr th:only-of-type {\n",
              "        vertical-align: middle;\n",
              "    }\n",
              "\n",
              "    .dataframe tbody tr th {\n",
              "        vertical-align: top;\n",
              "    }\n",
              "\n",
              "    .dataframe thead th {\n",
              "        text-align: right;\n",
              "    }\n",
              "</style>\n",
              "<table border=\"1\" class=\"dataframe\">\n",
              "  <thead>\n",
              "    <tr style=\"text-align: right;\">\n",
              "      <th></th>\n",
              "      <th>Actual</th>\n",
              "      <th>Predicted</th>\n",
              "    </tr>\n",
              "  </thead>\n",
              "  <tbody>\n",
              "    <tr>\n",
              "      <th>4506</th>\n",
              "      <td>13939</td>\n",
              "      <td>13941.76</td>\n",
              "    </tr>\n",
              "    <tr>\n",
              "      <th>1273</th>\n",
              "      <td>27390</td>\n",
              "      <td>27371.15</td>\n",
              "    </tr>\n",
              "    <tr>\n",
              "      <th>357</th>\n",
              "      <td>41995</td>\n",
              "      <td>41983.02</td>\n",
              "    </tr>\n",
              "    <tr>\n",
              "      <th>478</th>\n",
              "      <td>29800</td>\n",
              "      <td>29788.90</td>\n",
              "    </tr>\n",
              "    <tr>\n",
              "      <th>356</th>\n",
              "      <td>22977</td>\n",
              "      <td>22977.96</td>\n",
              "    </tr>\n",
              "    <tr>\n",
              "      <th>3154</th>\n",
              "      <td>9450</td>\n",
              "      <td>9457.16</td>\n",
              "    </tr>\n",
              "    <tr>\n",
              "      <th>799</th>\n",
              "      <td>15200</td>\n",
              "      <td>15203.72</td>\n",
              "    </tr>\n",
              "    <tr>\n",
              "      <th>3762</th>\n",
              "      <td>19995</td>\n",
              "      <td>19994.99</td>\n",
              "    </tr>\n",
              "    <tr>\n",
              "      <th>3341</th>\n",
              "      <td>5999</td>\n",
              "      <td>5999.03</td>\n",
              "    </tr>\n",
              "    <tr>\n",
              "      <th>4282</th>\n",
              "      <td>10800</td>\n",
              "      <td>10801.26</td>\n",
              "    </tr>\n",
              "    <tr>\n",
              "      <th>4981</th>\n",
              "      <td>37942</td>\n",
              "      <td>37930.24</td>\n",
              "    </tr>\n",
              "    <tr>\n",
              "      <th>2088</th>\n",
              "      <td>15995</td>\n",
              "      <td>15995.00</td>\n",
              "    </tr>\n",
              "    <tr>\n",
              "      <th>2661</th>\n",
              "      <td>24985</td>\n",
              "      <td>24985.03</td>\n",
              "    </tr>\n",
              "    <tr>\n",
              "      <th>2814</th>\n",
              "      <td>11900</td>\n",
              "      <td>11895.64</td>\n",
              "    </tr>\n",
              "    <tr>\n",
              "      <th>3712</th>\n",
              "      <td>10979</td>\n",
              "      <td>10978.50</td>\n",
              "    </tr>\n",
              "    <tr>\n",
              "      <th>3670</th>\n",
              "      <td>11995</td>\n",
              "      <td>11995.00</td>\n",
              "    </tr>\n",
              "    <tr>\n",
              "      <th>4359</th>\n",
              "      <td>39990</td>\n",
              "      <td>39989.26</td>\n",
              "    </tr>\n",
              "    <tr>\n",
              "      <th>2668</th>\n",
              "      <td>16611</td>\n",
              "      <td>16605.77</td>\n",
              "    </tr>\n",
              "    <tr>\n",
              "      <th>3860</th>\n",
              "      <td>20499</td>\n",
              "      <td>20499.72</td>\n",
              "    </tr>\n",
              "    <tr>\n",
              "      <th>2738</th>\n",
              "      <td>36936</td>\n",
              "      <td>36951.14</td>\n",
              "    </tr>\n",
              "    <tr>\n",
              "      <th>2417</th>\n",
              "      <td>10154</td>\n",
              "      <td>10191.34</td>\n",
              "    </tr>\n",
              "    <tr>\n",
              "      <th>2634</th>\n",
              "      <td>37989</td>\n",
              "      <td>37988.99</td>\n",
              "    </tr>\n",
              "    <tr>\n",
              "      <th>2497</th>\n",
              "      <td>55500</td>\n",
              "      <td>55540.13</td>\n",
              "    </tr>\n",
              "    <tr>\n",
              "      <th>4513</th>\n",
              "      <td>3989</td>\n",
              "      <td>3989.02</td>\n",
              "    </tr>\n",
              "    <tr>\n",
              "      <th>355</th>\n",
              "      <td>34095</td>\n",
              "      <td>34060.37</td>\n",
              "    </tr>\n",
              "    <tr>\n",
              "      <th>1493</th>\n",
              "      <td>26660</td>\n",
              "      <td>26694.99</td>\n",
              "    </tr>\n",
              "    <tr>\n",
              "      <th>843</th>\n",
              "      <td>17695</td>\n",
              "      <td>17690.34</td>\n",
              "    </tr>\n",
              "    <tr>\n",
              "      <th>3257</th>\n",
              "      <td>16900</td>\n",
              "      <td>16899.06</td>\n",
              "    </tr>\n",
              "    <tr>\n",
              "      <th>3603</th>\n",
              "      <td>23988</td>\n",
              "      <td>23987.54</td>\n",
              "    </tr>\n",
              "    <tr>\n",
              "      <th>347</th>\n",
              "      <td>19999</td>\n",
              "      <td>19999.06</td>\n",
              "    </tr>\n",
              "  </tbody>\n",
              "</table>\n",
              "</div>"
            ],
            "text/plain": [
              "      Actual  Predicted\n",
              "4506   13939   13941.76\n",
              "1273   27390   27371.15\n",
              "357    41995   41983.02\n",
              "478    29800   29788.90\n",
              "356    22977   22977.96\n",
              "3154    9450    9457.16\n",
              "799    15200   15203.72\n",
              "3762   19995   19994.99\n",
              "3341    5999    5999.03\n",
              "4282   10800   10801.26\n",
              "4981   37942   37930.24\n",
              "2088   15995   15995.00\n",
              "2661   24985   24985.03\n",
              "2814   11900   11895.64\n",
              "3712   10979   10978.50\n",
              "3670   11995   11995.00\n",
              "4359   39990   39989.26\n",
              "2668   16611   16605.77\n",
              "3860   20499   20499.72\n",
              "2738   36936   36951.14\n",
              "2417   10154   10191.34\n",
              "2634   37989   37988.99\n",
              "2497   55500   55540.13\n",
              "4513    3989    3989.02\n",
              "355    34095   34060.37\n",
              "1493   26660   26694.99\n",
              "843    17695   17690.34\n",
              "3257   16900   16899.06\n",
              "3603   23988   23987.54\n",
              "347    19999   19999.06"
            ]
          },
          "metadata": {},
          "execution_count": 35
        }
      ]
    }
  ]
}